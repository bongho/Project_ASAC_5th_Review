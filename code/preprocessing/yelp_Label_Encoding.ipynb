{
  "cells": [
    {
      "cell_type": "markdown",
      "metadata": {
        "id": "tx5WXvT4OdyO"
      },
      "source": [
        "# Label Encoding\n",
        "\n",
        "\n",
        "\n",
        "> business_id, review_id, user_id에 적용\n",
        "\n"
      ]
    },
    {
      "cell_type": "markdown",
      "metadata": {
        "id": "Zl1acDJ3OxXf"
      },
      "source": [
        "## Dataset open"
      ]
    },
    {
      "cell_type": "code",
      "execution_count": null,
      "metadata": {
        "colab": {
          "base_uri": "https://localhost:8080/"
        },
        "id": "P0oFNKvFOXNf",
        "outputId": "db9d9b51-ccec-4234-dd25-1c8f97b6f24d"
      },
      "outputs": [
        {
          "name": "stdout",
          "output_type": "stream",
          "text": [
            "Drive already mounted at /content/drive; to attempt to forcibly remount, call drive.mount(\"/content/drive\", force_remount=True).\n"
          ]
        }
      ],
      "source": [
        "from google.colab import drive\n",
        "drive.mount('/content/drive')"
      ]
    },
    {
      "cell_type": "code",
      "execution_count": null,
      "metadata": {
        "colab": {
          "base_uri": "https://localhost:8080/"
        },
        "id": "0iVBWM3VOzJ8",
        "outputId": "82c9dcdd-d66c-40c8-8f2a-be774c57c20b"
      },
      "outputs": [
        {
          "name": "stdout",
          "output_type": "stream",
          "text": [
            "Requirement already satisfied: polars in /usr/local/lib/python3.10/dist-packages (0.20.2)\n"
          ]
        }
      ],
      "source": [
        "!pip install polars"
      ]
    },
    {
      "cell_type": "code",
      "execution_count": null,
      "metadata": {
        "id": "_QrTFT42O1LJ"
      },
      "outputs": [],
      "source": [
        "import polars as pl\n",
        "import pandas as pd"
      ]
    },
    {
      "cell_type": "code",
      "execution_count": null,
      "metadata": {
        "id": "Lol7NdelO6ZI"
      },
      "outputs": [],
      "source": [
        "review_df = pl.read_ndjson(\"/content/drive/MyDrive/ASAC 5기/woowahan/dataset/yelp_academic_dataset_review.json\")"
      ]
    },
    {
      "cell_type": "code",
      "execution_count": null,
      "metadata": {
        "id": "uSqiL1XYsZnY"
      },
      "outputs": [],
      "source": [
        "#review_df = pl.read_csv(\"/content/drive/MyDrive/ASAC 5기/woowahan/dataset/review_filter_final.csv\")"
      ]
    },
    {
      "cell_type": "code",
      "execution_count": null,
      "metadata": {
        "id": "0_rchJSNseye"
      },
      "outputs": [],
      "source": [
        "user_df = pl.read_ndjson(\"/content/drive/MyDrive/ASAC 5기/woowahan/dataset/yelp_academic_dataset_user.json\")"
      ]
    },
    {
      "cell_type": "code",
      "execution_count": null,
      "metadata": {
        "id": "rk7gosmyO-in"
      },
      "outputs": [],
      "source": [
        "biz_df = pl.read_ndjson('/content/drive/MyDrive/ASAC 5기/woowahan/dataset/yelp_academic_dataset_business.json')"
      ]
    },
    {
      "cell_type": "code",
      "execution_count": null,
      "metadata": {
        "id": "gGu_ikphsjEt"
      },
      "outputs": [],
      "source": [
        "#biz_df = pd.read_excel('/content/drive/MyDrive/ASAC 5기/woowahan/dataset/business_add_category_v2_final.xlsx')"
      ]
    },
    {
      "cell_type": "code",
      "execution_count": null,
      "metadata": {
        "id": "PmuAZVbdPB_v"
      },
      "outputs": [],
      "source": [
        "review_df=review_df.to_pandas()"
      ]
    },
    {
      "cell_type": "code",
      "execution_count": null,
      "metadata": {
        "id": "vozLKvIfYVcr"
      },
      "outputs": [],
      "source": [
        "user_df=user_df.to_pandas()"
      ]
    },
    {
      "cell_type": "code",
      "execution_count": null,
      "metadata": {
        "id": "ZrOxLdg-YaSa",
        "collapsed": true
      },
      "outputs": [],
      "source": [
        "biz_df=biz_df.to_pandas()"
      ]
    },
    {
      "cell_type": "code",
      "execution_count": null,
      "metadata": {
        "colab": {
          "base_uri": "https://localhost:8080/"
        },
        "id": "8UFPMnTYt5wQ",
        "outputId": "4de8d5c7-3e76-4420-abd3-7a97dd031cb2"
      },
      "outputs": [
        {
          "name": "stdout",
          "output_type": "stream",
          "text": [
            "<class 'pandas.core.frame.DataFrame'>\n",
            "RangeIndex: 62590 entries, 0 to 62589\n",
            "Data columns (total 22 columns):\n",
            " #   Column        Non-Null Count  Dtype  \n",
            "---  ------        --------------  -----  \n",
            " 0   Unnamed: 0    62590 non-null  int64  \n",
            " 1   business_id   62590 non-null  object \n",
            " 2   name          62590 non-null  object \n",
            " 3   address       61900 non-null  object \n",
            " 4   city          62590 non-null  object \n",
            " 5   state         62590 non-null  object \n",
            " 6   postal_code   62564 non-null  object \n",
            " 7   latitude      62590 non-null  float64\n",
            " 8   longitude     62590 non-null  float64\n",
            " 9   stars         62590 non-null  float64\n",
            " 10  review_count  62590 non-null  int64  \n",
            " 11  is_open       62590 non-null  int64  \n",
            " 12  attributes    61761 non-null  object \n",
            " 13  categories    62590 non-null  object \n",
            " 14  hours         53603 non-null  object \n",
            " 15  main1         62590 non-null  object \n",
            " 16  main2         26993 non-null  object \n",
            " 17  main1_sub1    60984 non-null  object \n",
            " 18  main1_sub2    31112 non-null  object \n",
            " 19  main2_sub1    25410 non-null  object \n",
            " 20  main2_sub2    9769 non-null   object \n",
            " 21  category      62590 non-null  object \n",
            "dtypes: float64(3), int64(3), object(16)\n",
            "memory usage: 10.5+ MB\n"
          ]
        }
      ],
      "source": [
        "biz_df.info()"
      ]
    },
    {
      "cell_type": "code",
      "execution_count": null,
      "metadata": {
        "id": "LfQzJys-SRkG"
      },
      "outputs": [],
      "source": [
        "biz_df=biz_df.drop(columns=['Unnamed: 0'], axis=0)"
      ]
    },
    {
      "cell_type": "code",
      "execution_count": null,
      "metadata": {
        "id": "eOlys9BcQ-ZD"
      },
      "outputs": [],
      "source": [
        "review_df.head()"
      ]
    },
    {
      "cell_type": "markdown",
      "metadata": {
        "id": "qtpL7uFFr6cj"
      },
      "source": [
        "## 카테고리 수 확인"
      ]
    },
    {
      "cell_type": "code",
      "execution_count": null,
      "metadata": {
        "colab": {
          "base_uri": "https://localhost:8080/"
        },
        "id": "zF74vlzfk9RC",
        "outputId": "f3e9a05b-c8e3-40de-e1ec-de73ad408b7d"
      },
      "outputs": [
        {
          "name": "stdout",
          "output_type": "stream",
          "text": [
            "유저 테이블 유저 수 : \n",
            "1987897\n",
            "리뷰 테이블 유저 수 : \n",
            "974982\n",
            "비즈니스 테이블 비즈니스 수 : \n",
            "62590\n",
            "리뷰 테이블 비즈니스 수 : \n",
            "53454\n"
          ]
        }
      ],
      "source": [
        "print(\"유저 테이블 유저 수 : \")\n",
        "print(user_df['user_id'].nunique())\n",
        "\n",
        "print(\"리뷰 테이블 유저 수 : \")\n",
        "print(review_df['user_id'].nunique())\n",
        "\n",
        "print(\"비즈니스 테이블 비즈니스 수 : \")\n",
        "print(biz_df['business_id'].nunique())\n",
        "\n",
        "print(\"리뷰 테이블 비즈니스 수 : \")\n",
        "print(review_df['business_id'].nunique())"
      ]
    },
    {
      "cell_type": "code",
      "execution_count": null,
      "metadata": {
        "colab": {
          "background_save": true
        },
        "id": "ZSDfGBB6q2Ox"
      },
      "outputs": [],
      "source": [
        "# 리뷰 테이블의 user_id 중 유저 테이블에 없는 user_id를 확인하는 함수\n",
        "def find_missing_user_ids(review_df, user_df):\n",
        "    review_user_ids = set(review_df['user_id'])\n",
        "    user_user_ids = set(user_df['user_id'])\n",
        "\n",
        "    missing_user_ids = user_user_ids - review_user_ids\n",
        "    return missing_user_ids\n",
        "\n",
        "# 함수 호출\n",
        "missing_user_ids = find_missing_user_ids(review_df, user_df)\n",
        "\n",
        "# 결과 출력\n",
        "print(\"User IDs in user_df but not in review_df:\")\n",
        "print(missing_user_ids)"
      ]
    },
    {
      "cell_type": "code",
      "execution_count": null,
      "metadata": {
        "colab": {
          "base_uri": "https://localhost:8080/"
        },
        "id": "cLvw2B74rJrc",
        "outputId": "0d93e65c-3387-41c6-8be2-acce78094c70"
      },
      "outputs": [
        {
          "name": "stdout",
          "output_type": "stream",
          "text": [
            "Business IDs in biz_df but not in review_df:\n",
            "set()\n"
          ]
        }
      ],
      "source": [
        "# 리뷰 테이블의 business_id 중 비즈니스 테이블에 없는 business_id 확인하는 함수\n",
        "def find_missing_biz_ids(review_df, biz_df):\n",
        "    review_biz_ids = set(review_df['business_id'])\n",
        "    biz_biz_ids = set(biz_df['business_id'])\n",
        "\n",
        "    missing_biz_ids = biz_biz_ids - review_biz_ids\n",
        "    return missing_biz_ids\n",
        "\n",
        "# 함수 호출\n",
        "missing_biz_ids = find_missing_biz_ids(review_df, biz_df)\n",
        "\n",
        "# 결과 출력\n",
        "print(\"Business IDs in biz_df but not in review_df:\")\n",
        "print(missing_biz_ids)"
      ]
    },
    {
      "cell_type": "markdown",
      "metadata": {
        "id": "x54n8ecIcNJ_"
      },
      "source": [
        "## 각 df의 id값 인코딩"
      ]
    },
    {
      "cell_type": "code",
      "execution_count": null,
      "metadata": {
        "colab": {
          "background_save": true
        },
        "id": "R8HSoUcGYcwz"
      },
      "outputs": [],
      "source": [
        "## 각 df의 id값 인코딩 함수\n",
        "\n",
        "from sklearn.preprocessing import LabelEncoder\n",
        "\n",
        "def label_encode_column(df, column, encoder=None):\n",
        "    if encoder is None:\n",
        "        encoder = LabelEncoder()\n",
        "        df[column] = encoder.fit_transform(df[column])\n",
        "    else:\n",
        "        df[column] = encoder.transform(df[column])\n",
        "    return encoder"
      ]
    },
    {
      "cell_type": "code",
      "execution_count": null,
      "metadata": {
        "id": "X1iljcumcYzd"
      },
      "outputs": [],
      "source": [
        "## 각 테이블에 인코딩 적용 후 review_df의 user_id와 biz_id에도 동일한 인코더 적용\n",
        "\n",
        "def encode_review_data(review_df, user_df, biz_df):\n",
        "    # 라벨 인코더 초기화\n",
        "    user_encoder = label_encode_column(review_df, 'user_id')\n",
        "    biz_encoder = label_encode_column(review_df, 'business_id')\n",
        "    review_encoder = label_encode_column(review_df, 'review_id')\n",
        "\n",
        "    # 리뷰 데이터프레임에 인코더 적용\n",
        "    label_encode_column(user_df, 'user_id', user_encoder)\n",
        "    label_encode_column(biz_df, 'business_id', biz_encoder)\n",
        "\n",
        "    return review_df, user_df, biz_df"
      ]
    },
    {
      "cell_type": "code",
      "execution_count": null,
      "metadata": {
        "id": "S3hqTt8EcSXV"
      },
      "outputs": [],
      "source": [
        "# 함수 호출\n",
        "encoded_review_df, encoded_user_df, encoded_biz_df = encode_review_data(review_df, user_df, biz_df)"
      ]
    },
    {
      "cell_type": "markdown",
      "source": [
        "## 결과 csv 저장"
      ],
      "metadata": {
        "id": "x5n65_fTjAAH"
      }
    },
    {
      "cell_type": "code",
      "execution_count": null,
      "metadata": {
        "id": "0hAlK-GXajwA"
      },
      "outputs": [],
      "source": [
        "#encoded_review_df.to_csv('/content/drive/MyDrive/ASAC 5기/woowahan/dataset/encoded_review_df.csv', index=False)"
      ]
    },
    {
      "cell_type": "code",
      "execution_count": null,
      "metadata": {
        "id": "qriXjxq-iseO"
      },
      "outputs": [],
      "source": [
        "#encoded_user_df.to_csv('/content/drive/MyDrive/ASAC 5기/woowahan/dataset/encoded_user_df.csv', index=False)"
      ]
    },
    {
      "cell_type": "code",
      "execution_count": null,
      "metadata": {
        "id": "njXP4kt1i9tk"
      },
      "outputs": [],
      "source": [
        "#encoded_biz_df.to_csv('/content/drive/MyDrive/ASAC 5기/woowahan/dataset/encoded_biz_df.csv', index = False)"
      ]
    },
    {
      "cell_type": "code",
      "execution_count": null,
      "metadata": {
        "id": "k5bbC3iQjA3R"
      },
      "outputs": [],
      "source": []
    }
  ],
  "metadata": {
    "accelerator": "GPU",
    "colab": {
      "gpuType": "A100",
      "machine_shape": "hm",
      "provenance": [],
      "toc_visible": true
    },
    "kernelspec": {
      "display_name": "Python 3",
      "name": "python3"
    },
    "language_info": {
      "name": "python"
    }
  },
  "nbformat": 4,
  "nbformat_minor": 0
}