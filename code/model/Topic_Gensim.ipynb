{
  "nbformat": 4,
  "nbformat_minor": 0,
  "metadata": {
    "colab": {
      "provenance": []
    },
    "kernelspec": {
      "name": "python3",
      "display_name": "Python 3"
    },
    "language_info": {
      "name": "python"
    }
  },
  "cells": [
    {
      "cell_type": "markdown",
      "source": [
        "# Gensim 이용해 topic 추출\n"
      ],
      "metadata": {
        "id": "HnQj2Ws4HbGc"
      }
    },
    {
      "cell_type": "code",
      "source": [
        "from google.colab import drive\n",
        "drive.mount('/content/drive')"
      ],
      "metadata": {
        "colab": {
          "base_uri": "https://localhost:8080/"
        },
        "id": "gvZqXESzo_-q",
        "outputId": "11327161-234e-4e88-9b37-72c70707c5fb"
      },
      "execution_count": 1,
      "outputs": [
        {
          "output_type": "stream",
          "name": "stdout",
          "text": [
            "Mounted at /content/drive\n"
          ]
        }
      ]
    },
    {
      "cell_type": "code",
      "source": [
        "!pip install gensim"
      ],
      "metadata": {
        "colab": {
          "base_uri": "https://localhost:8080/"
        },
        "id": "-FJT579Nckdq",
        "outputId": "bb0770e7-e901-4133-9bad-68a4727f1688"
      },
      "execution_count": 2,
      "outputs": [
        {
          "output_type": "stream",
          "name": "stdout",
          "text": [
            "Requirement already satisfied: gensim in /usr/local/lib/python3.10/dist-packages (4.3.3)\n",
            "Requirement already satisfied: numpy<2.0,>=1.18.5 in /usr/local/lib/python3.10/dist-packages (from gensim) (1.26.4)\n",
            "Requirement already satisfied: scipy<1.14.0,>=1.7.0 in /usr/local/lib/python3.10/dist-packages (from gensim) (1.13.1)\n",
            "Requirement already satisfied: smart-open>=1.8.1 in /usr/local/lib/python3.10/dist-packages (from gensim) (7.0.4)\n",
            "Requirement already satisfied: wrapt in /usr/local/lib/python3.10/dist-packages (from smart-open>=1.8.1->gensim) (1.16.0)\n"
          ]
        }
      ]
    },
    {
      "cell_type": "code",
      "source": [
        "import pandas as pd\n",
        "import numpy as np\n",
        "from gensim import corpora, models"
      ],
      "metadata": {
        "id": "iWJb8ZFkpiQX"
      },
      "execution_count": 3,
      "outputs": []
    },
    {
      "cell_type": "code",
      "source": [
        "# DataFrame 불러오기\n",
        "user_df = pd.read_csv('/content/drive/MyDrive/ASAC 5기/woowahan/dataset/final/encoded_user_df.csv')\n",
        "biz_df = pd.read_csv('/content/drive/MyDrive/ASAC 5기/woowahan/dataset/final/encoded_biz_df_filtered.csv')\n",
        "review_df = pd.read_csv('/content/drive/MyDrive/ASAC 5기/woowahan/dataset/final/encoded_review_df_filtered.csv')\n",
        "active_area_df = pd.read_csv('/content/drive/MyDrive/ASAC 5기/woowahan/dataset/final/active_area_df.csv')"
      ],
      "metadata": {
        "colab": {
          "base_uri": "https://localhost:8080/"
        },
        "id": "dW_n64QPpi5c",
        "outputId": "4c30ce48-d16f-4678-8864-93ab8a493a9f"
      },
      "execution_count": 4,
      "outputs": [
        {
          "output_type": "stream",
          "name": "stderr",
          "text": [
            "<ipython-input-4-3a181239334e>:2: DtypeWarning: Columns (7) have mixed types. Specify dtype option on import or set low_memory=False.\n",
            "  user_df = pd.read_csv('/content/drive/MyDrive/ASAC 5기/woowahan/dataset/final/encoded_user_df.csv')\n"
          ]
        }
      ]
    },
    {
      "cell_type": "code",
      "source": [
        "user_df.info()"
      ],
      "metadata": {
        "colab": {
          "base_uri": "https://localhost:8080/"
        },
        "id": "YgUPt3iLJFJ7",
        "outputId": "2c15737d-0a53-4f44-e566-909bb096c5fb"
      },
      "execution_count": 5,
      "outputs": [
        {
          "output_type": "stream",
          "name": "stdout",
          "text": [
            "<class 'pandas.core.frame.DataFrame'>\n",
            "RangeIndex: 1987897 entries, 0 to 1987896\n",
            "Data columns (total 22 columns):\n",
            " #   Column              Dtype  \n",
            "---  ------              -----  \n",
            " 0   user_id             int64  \n",
            " 1   name                object \n",
            " 2   yelping_since       object \n",
            " 3   useful              int64  \n",
            " 4   funny               int64  \n",
            " 5   cool                int64  \n",
            " 6   elite               object \n",
            " 7   friends             object \n",
            " 8   fans                int64  \n",
            " 9   compliment_hot      int64  \n",
            " 10  compliment_more     int64  \n",
            " 11  compliment_profile  int64  \n",
            " 12  compliment_cute     int64  \n",
            " 13  compliment_list     int64  \n",
            " 14  compliment_note     int64  \n",
            " 15  compliment_plain    int64  \n",
            " 16  compliment_cool     int64  \n",
            " 17  compliment_funny    int64  \n",
            " 18  compliment_writer   int64  \n",
            " 19  compliment_photos   int64  \n",
            " 20  review_count_user   float64\n",
            " 21  average_stars_user  float64\n",
            "dtypes: float64(2), int64(16), object(4)\n",
            "memory usage: 333.7+ MB\n"
          ]
        }
      ]
    },
    {
      "cell_type": "code",
      "source": [
        "biz_df.info()"
      ],
      "metadata": {
        "colab": {
          "base_uri": "https://localhost:8080/"
        },
        "id": "EVGs4jjsJKy_",
        "outputId": "7d110d3e-02d8-4a4d-e822-e3fe4881bf51"
      },
      "execution_count": 6,
      "outputs": [
        {
          "output_type": "stream",
          "name": "stdout",
          "text": [
            "<class 'pandas.core.frame.DataFrame'>\n",
            "RangeIndex: 62586 entries, 0 to 62585\n",
            "Data columns (total 14 columns):\n",
            " #   Column             Non-Null Count  Dtype  \n",
            "---  ------             --------------  -----  \n",
            " 0   business_id        62586 non-null  int64  \n",
            " 1   name               62586 non-null  object \n",
            " 2   address            61896 non-null  object \n",
            " 3   city               62586 non-null  object \n",
            " 4   state              62586 non-null  object \n",
            " 5   postal_code        62560 non-null  object \n",
            " 6   latitude           62586 non-null  float64\n",
            " 7   longitude          62586 non-null  float64\n",
            " 8   is_open            62586 non-null  int64  \n",
            " 9   attributes         0 non-null      float64\n",
            " 10  category           62586 non-null  object \n",
            " 11  region             62586 non-null  object \n",
            " 12  review_count_biz   62586 non-null  float64\n",
            " 13  average_stars_biz  53450 non-null  float64\n",
            "dtypes: float64(5), int64(2), object(7)\n",
            "memory usage: 6.7+ MB\n"
          ]
        }
      ]
    },
    {
      "cell_type": "code",
      "source": [
        "review_df.info()"
      ],
      "metadata": {
        "colab": {
          "base_uri": "https://localhost:8080/"
        },
        "id": "MbnXdHHYJRdM",
        "outputId": "d6a9976d-ebec-4876-b847-2e385ac7d4f4"
      },
      "execution_count": 7,
      "outputs": [
        {
          "output_type": "stream",
          "name": "stdout",
          "text": [
            "<class 'pandas.core.frame.DataFrame'>\n",
            "RangeIndex: 2680161 entries, 0 to 2680160\n",
            "Data columns (total 10 columns):\n",
            " #   Column       Dtype  \n",
            "---  ------       -----  \n",
            " 0   review_id    int64  \n",
            " 1   user_id      int64  \n",
            " 2   business_id  int64  \n",
            " 3   stars        float64\n",
            " 4   useful       int64  \n",
            " 5   funny        int64  \n",
            " 6   cool         int64  \n",
            " 7   text         object \n",
            " 8   date         object \n",
            " 9   text_length  int64  \n",
            "dtypes: float64(1), int64(7), object(2)\n",
            "memory usage: 204.5+ MB\n"
          ]
        }
      ]
    },
    {
      "cell_type": "code",
      "source": [
        "active_area_df.info()"
      ],
      "metadata": {
        "id": "igr69JHzJT5t",
        "outputId": "d7c511c1-f41d-47d3-c1d9-8fb1d82b59aa",
        "colab": {
          "base_uri": "https://localhost:8080/"
        }
      },
      "execution_count": 8,
      "outputs": [
        {
          "output_type": "stream",
          "name": "stdout",
          "text": [
            "<class 'pandas.core.frame.DataFrame'>\n",
            "RangeIndex: 974954 entries, 0 to 974953\n",
            "Data columns (total 3 columns):\n",
            " #   Column                Non-Null Count   Dtype \n",
            "---  ------                --------------   ----- \n",
            " 0   user_id               974954 non-null  int64 \n",
            " 1   most_visited_regions  974954 non-null  object\n",
            " 2   visit_count           974954 non-null  int64 \n",
            "dtypes: int64(2), object(1)\n",
            "memory usage: 22.3+ MB\n"
          ]
        }
      ]
    },
    {
      "cell_type": "markdown",
      "source": [
        "## 1. install library"
      ],
      "metadata": {
        "id": "H_08sb0tHemW"
      }
    },
    {
      "cell_type": "code",
      "source": [
        "import nltk\n",
        "from nltk.tokenize import PunktSentenceTokenizer\n",
        "from nltk.corpus import stopwords\n",
        "from nltk.stem.porter import PorterStemmer\n",
        "\n",
        "nltk.download('punkt')\n",
        "nltk.download('stopwords')"
      ],
      "metadata": {
        "colab": {
          "base_uri": "https://localhost:8080/"
        },
        "id": "ycM6OVS8sS9q",
        "outputId": "dbb4cf07-9ea2-4ffd-8c13-af74c1c7331c"
      },
      "execution_count": 9,
      "outputs": [
        {
          "output_type": "stream",
          "name": "stderr",
          "text": [
            "[nltk_data] Downloading package punkt to /root/nltk_data...\n",
            "[nltk_data]   Unzipping tokenizers/punkt.zip.\n",
            "[nltk_data] Downloading package stopwords to /root/nltk_data...\n",
            "[nltk_data]   Unzipping corpora/stopwords.zip.\n"
          ]
        },
        {
          "output_type": "execute_result",
          "data": {
            "text/plain": [
              "True"
            ]
          },
          "metadata": {},
          "execution_count": 9
        }
      ]
    },
    {
      "cell_type": "code",
      "source": [
        "# 문장으로 분리 토크나이저 정의\n",
        "tokenizer = PunktSentenceTokenizer()\n"
      ],
      "metadata": {
        "id": "MqetqWnZsVoT"
      },
      "execution_count": 10,
      "outputs": []
    },
    {
      "cell_type": "markdown",
      "source": [
        "## 2. 문장분리\n"
      ],
      "metadata": {
        "id": "R3xDwo7PIORr"
      }
    },
    {
      "cell_type": "code",
      "source": [
        "doc=review_df.loc[2]['text']"
      ],
      "metadata": {
        "id": "S_vFpGmJtLAi"
      },
      "execution_count": 20,
      "outputs": []
    },
    {
      "cell_type": "code",
      "source": [
        "sentences = tokenizer.tokenize(doc)\n",
        "sentences"
      ],
      "metadata": {
        "colab": {
          "base_uri": "https://localhost:8080/"
        },
        "id": "CXdg2AZStOTi",
        "outputId": "abf0a352-54d2-426c-f315-81a384afaad5"
      },
      "execution_count": 21,
      "outputs": [
        {
          "output_type": "execute_result",
          "data": {
            "text/plain": [
              "['I was really between 3 and 4 stars for this one.',\n",
              " 'I LOVE the 96th street Naked Tchopstix so I was very excited to see this one which is closer to my house.',\n",
              " 'The vibe is totally different as this is geared more to take out although they do have a decent size dining area.',\n",
              " 'You order at the counter and they deliver it.',\n",
              " 'My daughter and I tried the sushi bowl.',\n",
              " 'You pick up a piece of paper and  select from a choice of proteins, vegetables, rice and toppings.',\n",
              " \"I like the fact that it is on paper and you don't have to guess what things are or have to shout over the counter to tell the server what you want.\",\n",
              " 'The sushi bowl was good but not wonderful.',\n",
              " 'The choices particularly of the vegetables seemed a little too limiting and I felt I had more rice than other food items.',\n",
              " 'The sauces were tasty.',\n",
              " 'My husband ordered the Maui roll which is my favorite roll at the 96th street location and this just was not up that standard.',\n",
              " 'It was good but the quality and consistently was not as good as at 96th street.',\n",
              " 'I would go back though and I think a lot of people would be happy with the sushi bowls.',\n",
              " 'I do want to make a comment about the low reviews that people have given the place because of service.',\n",
              " \"People - it is a sushi place - it isn't McDonalds- so it will be a bit slower.\",\n",
              " 'You are not going to order and get out of there in five minutes even though it is called express.',\n",
              " 'As a healthy alternative to fast food in the area, it is worth the wait.',\n",
              " 'Oh and try the bubble tea.',\n",
              " 'I had the strawberry and it was quite yummy.',\n",
              " 'Next time I am going to try the vanilla chai.']"
            ]
          },
          "metadata": {},
          "execution_count": 21
        }
      ]
    },
    {
      "cell_type": "markdown",
      "source": [
        "## 3. 토픽 추출"
      ],
      "metadata": {
        "id": "Ft3M2M-4tRNK"
      }
    },
    {
      "cell_type": "code",
      "source": [
        "# 각 문장을 토큰화하여 전처리 (이 경우 추가 전처리는 하지 않음)\n",
        "processed_sentences = [sentence.split() for sentence in sentences]"
      ],
      "metadata": {
        "id": "0dsLgj42HVq7"
      },
      "execution_count": 22,
      "outputs": []
    },
    {
      "cell_type": "code",
      "source": [
        "# 사전과 코퍼스 생성\n",
        "dictionary = corpora.Dictionary(processed_sentences)\n",
        "corpus = [dictionary.doc2bow(text) for text in processed_sentences]"
      ],
      "metadata": {
        "id": "_XbcyUM15lTT"
      },
      "execution_count": 23,
      "outputs": []
    },
    {
      "cell_type": "code",
      "source": [
        "# LDA 모델 구성, 여기서는 토픽 수를 5로 설정\n",
        "lda_model = models.LdaModel(corpus, num_topics=5, id2word=dictionary, passes=15)\n"
      ],
      "metadata": {
        "id": "WXAdWvC28YxP"
      },
      "execution_count": 24,
      "outputs": []
    },
    {
      "cell_type": "code",
      "source": [
        "# 토픽 출력\n",
        "topics = lda_model.print_topics(num_words=4)\n",
        "for topic in topics:\n",
        "    print(topic)"
      ],
      "metadata": {
        "colab": {
          "base_uri": "https://localhost:8080/"
        },
        "id": "qsjZwa3CHoEj",
        "outputId": "bea3d197-5443-4706-8996-88b8af090ec5"
      },
      "execution_count": 25,
      "outputs": [
        {
          "output_type": "stream",
          "name": "stdout",
          "text": [
            "(0, '0.038*\"it\" + 0.038*\"I\" + 0.038*\"a\" + 0.038*\"sushi\"')\n",
            "(1, '0.040*\"I\" + 0.040*\"to\" + 0.032*\"is\" + 0.024*\"the\"')\n",
            "(2, '0.062*\"was\" + 0.047*\"good\" + 0.032*\"the\" + 0.032*\"not\"')\n",
            "(3, '0.076*\"the\" + 0.039*\"to\" + 0.024*\"have\" + 0.024*\"is\"')\n",
            "(4, '0.060*\"and\" + 0.031*\"of\" + 0.031*\"a\" + 0.017*\"You\"')\n"
          ]
        }
      ]
    },
    {
      "cell_type": "code",
      "source": [],
      "metadata": {
        "id": "03Y9K2Ltua4N"
      },
      "execution_count": null,
      "outputs": []
    }
  ]
}