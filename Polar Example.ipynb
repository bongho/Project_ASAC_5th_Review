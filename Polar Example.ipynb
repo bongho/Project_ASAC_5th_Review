{
 "cells": [
  {
   "cell_type": "code",
   "outputs": [],
   "source": [
    "import json\n",
    "import random\n",
    "\n",
    "from sklearn.model_selection import train_test_split\n",
    "import numpy as np \n",
    "import pandas as pd\n",
    "import polars  as pl\n",
    "import pyarrow\n",
    "\n",
    "import matplotlib.pyplot as plt\n",
    "import seaborn as sns\n",
    "\n",
    "sns.set_palette('husl')\n",
    "sns.set_style(\"whitegrid\")"
   ],
   "metadata": {
    "collapsed": false,
    "ExecuteTime": {
     "end_time": "2024-06-28T03:18:01.580010Z",
     "start_time": "2024-06-28T03:18:01.192342Z"
    }
   },
   "id": "f3114b44b580c7e4",
   "execution_count": 2
  },
  {
   "cell_type": "code",
   "outputs": [
    {
     "name": "stdout",
     "output_type": "stream",
     "text": [
      "(6990280, 9)\n"
     ]
    },
    {
     "data": {
      "text/plain": "shape: (5, 9)\n┌──────────────┬──────────────┬─────────────┬───────┬───┬───────┬──────┬─────────────┬─────────────┐\n│ review_id    ┆ user_id      ┆ business_id ┆ stars ┆ … ┆ funny ┆ cool ┆ text        ┆ date        │\n│ ---          ┆ ---          ┆ ---         ┆ ---   ┆   ┆ ---   ┆ ---  ┆ ---         ┆ ---         │\n│ str          ┆ str          ┆ str         ┆ f64   ┆   ┆ i64   ┆ i64  ┆ str         ┆ str         │\n╞══════════════╪══════════════╪═════════════╪═══════╪═══╪═══════╪══════╪═════════════╪═════════════╡\n│ KU_O5udG6zpx ┆ mh_-eMZ6K5RL ┆ XQfwVwDr-v0 ┆ 3.0   ┆ … ┆ 0     ┆ 0    ┆ If you      ┆ 2018-07-07  │\n│ Og-VcAEodg   ┆ WhZyISBhwA   ┆ ZS3_CbbE5Xw ┆       ┆   ┆       ┆      ┆ decide to   ┆ 22:09:11    │\n│              ┆              ┆             ┆       ┆   ┆       ┆      ┆ eat here,   ┆             │\n│              ┆              ┆             ┆       ┆   ┆       ┆      ┆ jus…        ┆             │\n│ BiTunyQ73aT9 ┆ OyoGAe7OKpv6 ┆ 7ATYjTIgM3j ┆ 5.0   ┆ … ┆ 0     ┆ 1    ┆ I've taken  ┆ 2012-01-03  │\n│ WBnpR9DZGw   ┆ SyGZT5g77Q   ┆ Ult4UM3IypQ ┆       ┆   ┆       ┆      ┆ a lot of    ┆ 15:28:18    │\n│              ┆              ┆             ┆       ┆   ┆       ┆      ┆ spin class… ┆             │\n│ saUsX_uimxRl ┆ 8g_iMtfSiwik ┆ YjUWPpI6HXG ┆ 3.0   ┆ … ┆ 0     ┆ 0    ┆ Family      ┆ 2014-02-05  │\n│ CVr67Z4Jig   ┆ VnbP2etR0A   ┆ 530lwP-fb2A ┆       ┆   ┆       ┆      ┆ diner. Had  ┆ 20:30:30    │\n│              ┆              ┆             ┆       ┆   ┆       ┆      ┆ the buffet. ┆             │\n│              ┆              ┆             ┆       ┆   ┆       ┆      ┆ …           ┆             │\n│ AqPFMleE6RsU ┆ _7bHUi9Uuf5_ ┆ kxX2SOes4o- ┆ 5.0   ┆ … ┆ 0     ┆ 1    ┆ Wow!        ┆ 2015-01-04  │\n│ 23_auESxiA   ┆ _HHc_Q8guQ   ┆ D3ZQBkiMRfA ┆       ┆   ┆       ┆      ┆ Yummy,      ┆ 00:01:03    │\n│              ┆              ┆             ┆       ┆   ┆       ┆      ┆ different,  ┆             │\n│              ┆              ┆             ┆       ┆   ┆       ┆      ┆ delic…      ┆             │\n│ Sx8TMOWLNuJB ┆ bcjbaE6dDog4 ┆ e4Vwtrqf-wp ┆ 4.0   ┆ … ┆ 0     ┆ 1    ┆ Cute        ┆ 2017-01-14  │\n│ Wer-0pcmoA   ┆ jkNY91ncLQ   ┆ JfwesgvdgxQ ┆       ┆   ┆       ┆      ┆ interior    ┆ 20:54:15    │\n│              ┆              ┆             ┆       ┆   ┆       ┆      ┆ and owner   ┆             │\n│              ┆              ┆             ┆       ┆   ┆       ┆      ┆ (?) ga…     ┆             │\n└──────────────┴──────────────┴─────────────┴───────┴───┴───────┴──────┴─────────────┴─────────────┘",
      "text/html": "<div><style>\n.dataframe > thead > tr,\n.dataframe > tbody > tr {\n  text-align: right;\n  white-space: pre-wrap;\n}\n</style>\n<small>shape: (5, 9)</small><table border=\"1\" class=\"dataframe\"><thead><tr><th>review_id</th><th>user_id</th><th>business_id</th><th>stars</th><th>useful</th><th>funny</th><th>cool</th><th>text</th><th>date</th></tr><tr><td>str</td><td>str</td><td>str</td><td>f64</td><td>i64</td><td>i64</td><td>i64</td><td>str</td><td>str</td></tr></thead><tbody><tr><td>&quot;KU_O5udG6zpxOg-VcAEodg&quot;</td><td>&quot;mh_-eMZ6K5RLWhZyISBhwA&quot;</td><td>&quot;XQfwVwDr-v0ZS3_CbbE5Xw&quot;</td><td>3.0</td><td>0</td><td>0</td><td>0</td><td>&quot;If you decide to eat here, jus…</td><td>&quot;2018-07-07 22:09:11&quot;</td></tr><tr><td>&quot;BiTunyQ73aT9WBnpR9DZGw&quot;</td><td>&quot;OyoGAe7OKpv6SyGZT5g77Q&quot;</td><td>&quot;7ATYjTIgM3jUlt4UM3IypQ&quot;</td><td>5.0</td><td>1</td><td>0</td><td>1</td><td>&quot;I&#x27;ve taken a lot of spin class…</td><td>&quot;2012-01-03 15:28:18&quot;</td></tr><tr><td>&quot;saUsX_uimxRlCVr67Z4Jig&quot;</td><td>&quot;8g_iMtfSiwikVnbP2etR0A&quot;</td><td>&quot;YjUWPpI6HXG530lwP-fb2A&quot;</td><td>3.0</td><td>0</td><td>0</td><td>0</td><td>&quot;Family diner. Had the buffet. …</td><td>&quot;2014-02-05 20:30:30&quot;</td></tr><tr><td>&quot;AqPFMleE6RsU23_auESxiA&quot;</td><td>&quot;_7bHUi9Uuf5__HHc_Q8guQ&quot;</td><td>&quot;kxX2SOes4o-D3ZQBkiMRfA&quot;</td><td>5.0</td><td>1</td><td>0</td><td>1</td><td>&quot;Wow!  Yummy, different,  delic…</td><td>&quot;2015-01-04 00:01:03&quot;</td></tr><tr><td>&quot;Sx8TMOWLNuJBWer-0pcmoA&quot;</td><td>&quot;bcjbaE6dDog4jkNY91ncLQ&quot;</td><td>&quot;e4Vwtrqf-wpJfwesgvdgxQ&quot;</td><td>4.0</td><td>1</td><td>0</td><td>1</td><td>&quot;Cute interior and owner (?) ga…</td><td>&quot;2017-01-14 20:54:15&quot;</td></tr></tbody></table></div>"
     },
     "execution_count": 3,
     "metadata": {},
     "output_type": "execute_result"
    }
   ],
   "source": [
    "review_df = pl.read_ndjson(\"./data/yelp_academic_dataset_review.json\")\n",
    "print(review_df.shape)\n",
    "review_df.head()"
   ],
   "metadata": {
    "collapsed": true,
    "ExecuteTime": {
     "end_time": "2024-06-28T03:18:10.710501Z",
     "start_time": "2024-06-28T03:18:02.559921Z"
    }
   },
   "id": "initial_id",
   "execution_count": 3
  },
  {
   "cell_type": "code",
   "outputs": [
    {
     "name": "stdout",
     "output_type": "stream",
     "text": [
      "(100000, 9)\n"
     ]
    },
    {
     "data": {
      "text/plain": "                      review_id                 user_id  \\\n6805854  OUr7BHPW3EuujEUQfUJNww  K6QWCbYwCS1SNa30ti_M8w   \n4034760  k9fOqgB-j-sNFGVebK7jwQ  cMGEHqUw0AE-kTzxFnTlFQ   \n3366151  FlShaOIPfKl0RfSWKaNhlw  0T2UB266WSFK4H6yoEvzAQ   \n3058034  SB-6oD2IgjxpTjpMFLvLRQ  VS-eTvgyCypNq1QHB0RQmg   \n5829414  R7KDDe2auvR_PcawM4Phxg  _ixImSvRWglr0EpB2D0RJw   \n\n                    business_id  stars  useful  funny  cool  \\\n6805854  NSpCTkw7IDGV2HKOFvQA4w    4.0       0      0     0   \n4034760  EbsPMlEkZDeHlBUaH1TrYQ    5.0       0      0     0   \n3366151  c1-LgoUcXYtw_zVt3FSwSg    5.0       2      0     2   \n3058034  8jXmNMrGJ2acUG1R-D5e6w    5.0       0      0     0   \n5829414  6Xj5r3WttTALZsIVHL9ebw    5.0       0      0     0   \n\n                                                      text  \\\n6805854  Came here for the first time, really enjoyed t...   \n4034760  Needed a place to eat while waiting for my dog...   \n3366151  I LOVE Trader Joes! I love French fries and Me...   \n3058034  Stumbled upon this place because I refused to ...   \n5829414  Honestly, finest Mexican restaurant in all of ...   \n\n                        date  \n6805854  2019-05-08 21:55:23  \n4034760  2021-04-09 23:28:35  \n3366151  2018-03-08 03:47:48  \n3058034  2014-01-11 23:27:28  \n5829414  2015-09-05 03:23:00  ",
      "text/html": "<div>\n<style scoped>\n    .dataframe tbody tr th:only-of-type {\n        vertical-align: middle;\n    }\n\n    .dataframe tbody tr th {\n        vertical-align: top;\n    }\n\n    .dataframe thead th {\n        text-align: right;\n    }\n</style>\n<table border=\"1\" class=\"dataframe\">\n  <thead>\n    <tr style=\"text-align: right;\">\n      <th></th>\n      <th>review_id</th>\n      <th>user_id</th>\n      <th>business_id</th>\n      <th>stars</th>\n      <th>useful</th>\n      <th>funny</th>\n      <th>cool</th>\n      <th>text</th>\n      <th>date</th>\n    </tr>\n  </thead>\n  <tbody>\n    <tr>\n      <th>6805854</th>\n      <td>OUr7BHPW3EuujEUQfUJNww</td>\n      <td>K6QWCbYwCS1SNa30ti_M8w</td>\n      <td>NSpCTkw7IDGV2HKOFvQA4w</td>\n      <td>4.0</td>\n      <td>0</td>\n      <td>0</td>\n      <td>0</td>\n      <td>Came here for the first time, really enjoyed t...</td>\n      <td>2019-05-08 21:55:23</td>\n    </tr>\n    <tr>\n      <th>4034760</th>\n      <td>k9fOqgB-j-sNFGVebK7jwQ</td>\n      <td>cMGEHqUw0AE-kTzxFnTlFQ</td>\n      <td>EbsPMlEkZDeHlBUaH1TrYQ</td>\n      <td>5.0</td>\n      <td>0</td>\n      <td>0</td>\n      <td>0</td>\n      <td>Needed a place to eat while waiting for my dog...</td>\n      <td>2021-04-09 23:28:35</td>\n    </tr>\n    <tr>\n      <th>3366151</th>\n      <td>FlShaOIPfKl0RfSWKaNhlw</td>\n      <td>0T2UB266WSFK4H6yoEvzAQ</td>\n      <td>c1-LgoUcXYtw_zVt3FSwSg</td>\n      <td>5.0</td>\n      <td>2</td>\n      <td>0</td>\n      <td>2</td>\n      <td>I LOVE Trader Joes! I love French fries and Me...</td>\n      <td>2018-03-08 03:47:48</td>\n    </tr>\n    <tr>\n      <th>3058034</th>\n      <td>SB-6oD2IgjxpTjpMFLvLRQ</td>\n      <td>VS-eTvgyCypNq1QHB0RQmg</td>\n      <td>8jXmNMrGJ2acUG1R-D5e6w</td>\n      <td>5.0</td>\n      <td>0</td>\n      <td>0</td>\n      <td>0</td>\n      <td>Stumbled upon this place because I refused to ...</td>\n      <td>2014-01-11 23:27:28</td>\n    </tr>\n    <tr>\n      <th>5829414</th>\n      <td>R7KDDe2auvR_PcawM4Phxg</td>\n      <td>_ixImSvRWglr0EpB2D0RJw</td>\n      <td>6Xj5r3WttTALZsIVHL9ebw</td>\n      <td>5.0</td>\n      <td>0</td>\n      <td>0</td>\n      <td>0</td>\n      <td>Honestly, finest Mexican restaurant in all of ...</td>\n      <td>2015-09-05 03:23:00</td>\n    </tr>\n  </tbody>\n</table>\n</div>"
     },
     "execution_count": 4,
     "metadata": {},
     "output_type": "execute_result"
    }
   ],
   "source": [
    "review_df = review_df.to_pandas()\n",
    "review_df = review_df.sample(n=100000)\n",
    "print(review_df.shape)\n",
    "review_df.head()"
   ],
   "metadata": {
    "collapsed": false,
    "ExecuteTime": {
     "end_time": "2024-06-28T03:19:00.151888Z",
     "start_time": "2024-06-28T03:18:10.712383Z"
    }
   },
   "id": "6d1d80edf4879ab1",
   "execution_count": 4
  },
  {
   "cell_type": "code",
   "outputs": [],
   "source": [],
   "metadata": {
    "collapsed": false
   },
   "id": "e9344f19bfa6c08f"
  },
  {
   "cell_type": "code",
   "outputs": [],
   "source": [],
   "metadata": {
    "collapsed": false
   },
   "id": "e844779cd926d82b"
  }
 ],
 "metadata": {
  "kernelspec": {
   "display_name": "Python 3",
   "language": "python",
   "name": "python3"
  },
  "language_info": {
   "codemirror_mode": {
    "name": "ipython",
    "version": 2
   },
   "file_extension": ".py",
   "mimetype": "text/x-python",
   "name": "python",
   "nbconvert_exporter": "python",
   "pygments_lexer": "ipython2",
   "version": "2.7.6"
  }
 },
 "nbformat": 4,
 "nbformat_minor": 5
}
