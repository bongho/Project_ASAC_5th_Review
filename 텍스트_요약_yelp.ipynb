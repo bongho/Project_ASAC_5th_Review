{
  "nbformat": 4,
  "nbformat_minor": 0,
  "metadata": {
    "colab": {
      "provenance": [],
      "machine_shape": "hm",
      "gpuType": "L4",
      "toc_visible": true,
      "mount_file_id": "1Z0zVnAr0yuQbzMoobn_0EUxVk1Hm_j22",
      "authorship_tag": "ABX9TyMcpOuHKqokSpD2TNPGwIOw",
      "include_colab_link": true
    },
    "kernelspec": {
      "name": "python3",
      "display_name": "Python 3"
    },
    "language_info": {
      "name": "python"
    },
    "accelerator": "GPU"
  },
  "cells": [
    {
      "cell_type": "markdown",
      "metadata": {
        "id": "view-in-github",
        "colab_type": "text"
      },
      "source": [
        "<a href=\"https://colab.research.google.com/github/bongho/Project_ASAC_5th_Review/blob/hoon/%ED%85%8D%EC%8A%A4%ED%8A%B8_%EC%9A%94%EC%95%BD_yelp.ipynb\" target=\"_parent\"><img src=\"https://colab.research.google.com/assets/colab-badge.svg\" alt=\"Open In Colab\"/></a>"
      ]
    },
    {
      "cell_type": "markdown",
      "source": [
        "# 텍스트를 요약(Summary)하고 키워드를 추출해보기"
      ],
      "metadata": {
        "id": "NEJZOIF4Bm2l"
      }
    },
    {
      "cell_type": "code",
      "source": [
        "!pip install datasets\n",
        "!pip install transformers==4.17"
      ],
      "metadata": {
        "collapsed": true,
        "id": "EDrFf4seL8zg",
        "colab": {
          "base_uri": "https://localhost:8080/",
          "height": 1000
        },
        "outputId": "0e3c21b8-6bcf-448b-b992-0a427b83ecc2"
      },
      "execution_count": 2,
      "outputs": [
        {
          "output_type": "stream",
          "name": "stdout",
          "text": [
            "Collecting datasets\n",
            "  Downloading datasets-2.20.0-py3-none-any.whl (547 kB)\n",
            "\u001b[?25l     \u001b[90m━━━━━━━━━━━━━━━━━━━━━━━━━━━━━━━━━━━━━━━━\u001b[0m \u001b[32m0.0/547.8 kB\u001b[0m \u001b[31m?\u001b[0m eta \u001b[36m-:--:--\u001b[0m\r\u001b[2K     \u001b[91m━━━━━━━━━━━━━━\u001b[0m\u001b[91m╸\u001b[0m\u001b[90m━━━━━━━━━━━━━━━━━━━━━━━━━\u001b[0m \u001b[32m204.8/547.8 kB\u001b[0m \u001b[31m6.0 MB/s\u001b[0m eta \u001b[36m0:00:01\u001b[0m\r\u001b[2K     \u001b[90m━━━━━━━━━━━━━━━━━━━━━━━━━━━━━━━━━━━━━━━━\u001b[0m \u001b[32m547.8/547.8 kB\u001b[0m \u001b[31m10.3 MB/s\u001b[0m eta \u001b[36m0:00:00\u001b[0m\n",
            "\u001b[?25hRequirement already satisfied: filelock in /usr/local/lib/python3.10/dist-packages (from datasets) (3.15.4)\n",
            "Requirement already satisfied: numpy>=1.17 in /usr/local/lib/python3.10/dist-packages (from datasets) (1.25.2)\n",
            "Collecting pyarrow>=15.0.0 (from datasets)\n",
            "  Downloading pyarrow-17.0.0-cp310-cp310-manylinux_2_28_x86_64.whl (39.9 MB)\n",
            "\u001b[2K     \u001b[90m━━━━━━━━━━━━━━━━━━━━━━━━━━━━━━━━━━━━━━━━\u001b[0m \u001b[32m39.9/39.9 MB\u001b[0m \u001b[31m37.1 MB/s\u001b[0m eta \u001b[36m0:00:00\u001b[0m\n",
            "\u001b[?25hRequirement already satisfied: pyarrow-hotfix in /usr/local/lib/python3.10/dist-packages (from datasets) (0.6)\n",
            "Collecting dill<0.3.9,>=0.3.0 (from datasets)\n",
            "  Downloading dill-0.3.8-py3-none-any.whl (116 kB)\n",
            "\u001b[2K     \u001b[90m━━━━━━━━━━━━━━━━━━━━━━━━━━━━━━━━━━━━━━━━\u001b[0m \u001b[32m116.3/116.3 kB\u001b[0m \u001b[31m19.4 MB/s\u001b[0m eta \u001b[36m0:00:00\u001b[0m\n",
            "\u001b[?25hRequirement already satisfied: pandas in /usr/local/lib/python3.10/dist-packages (from datasets) (2.0.3)\n",
            "Collecting requests>=2.32.2 (from datasets)\n",
            "  Downloading requests-2.32.3-py3-none-any.whl (64 kB)\n",
            "\u001b[2K     \u001b[90m━━━━━━━━━━━━━━━━━━━━━━━━━━━━━━━━━━━━━━━━\u001b[0m \u001b[32m64.9/64.9 kB\u001b[0m \u001b[31m11.2 MB/s\u001b[0m eta \u001b[36m0:00:00\u001b[0m\n",
            "\u001b[?25hRequirement already satisfied: tqdm>=4.66.3 in /usr/local/lib/python3.10/dist-packages (from datasets) (4.66.4)\n",
            "Collecting xxhash (from datasets)\n",
            "  Downloading xxhash-3.4.1-cp310-cp310-manylinux_2_17_x86_64.manylinux2014_x86_64.whl (194 kB)\n",
            "\u001b[2K     \u001b[90m━━━━━━━━━━━━━━━━━━━━━━━━━━━━━━━━━━━━━━━━\u001b[0m \u001b[32m194.1/194.1 kB\u001b[0m \u001b[31m26.8 MB/s\u001b[0m eta \u001b[36m0:00:00\u001b[0m\n",
            "\u001b[?25hCollecting multiprocess (from datasets)\n",
            "  Downloading multiprocess-0.70.16-py310-none-any.whl (134 kB)\n",
            "\u001b[2K     \u001b[90m━━━━━━━━━━━━━━━━━━━━━━━━━━━━━━━━━━━━━━━━\u001b[0m \u001b[32m134.8/134.8 kB\u001b[0m \u001b[31m23.8 MB/s\u001b[0m eta \u001b[36m0:00:00\u001b[0m\n",
            "\u001b[?25hRequirement already satisfied: fsspec[http]<=2024.5.0,>=2023.1.0 in /usr/local/lib/python3.10/dist-packages (from datasets) (2023.6.0)\n",
            "Requirement already satisfied: aiohttp in /usr/local/lib/python3.10/dist-packages (from datasets) (3.9.5)\n",
            "Requirement already satisfied: huggingface-hub>=0.21.2 in /usr/local/lib/python3.10/dist-packages (from datasets) (0.23.5)\n",
            "Requirement already satisfied: packaging in /usr/local/lib/python3.10/dist-packages (from datasets) (24.1)\n",
            "Requirement already satisfied: pyyaml>=5.1 in /usr/local/lib/python3.10/dist-packages (from datasets) (6.0.1)\n",
            "Requirement already satisfied: aiosignal>=1.1.2 in /usr/local/lib/python3.10/dist-packages (from aiohttp->datasets) (1.3.1)\n",
            "Requirement already satisfied: attrs>=17.3.0 in /usr/local/lib/python3.10/dist-packages (from aiohttp->datasets) (23.2.0)\n",
            "Requirement already satisfied: frozenlist>=1.1.1 in /usr/local/lib/python3.10/dist-packages (from aiohttp->datasets) (1.4.1)\n",
            "Requirement already satisfied: multidict<7.0,>=4.5 in /usr/local/lib/python3.10/dist-packages (from aiohttp->datasets) (6.0.5)\n",
            "Requirement already satisfied: yarl<2.0,>=1.0 in /usr/local/lib/python3.10/dist-packages (from aiohttp->datasets) (1.9.4)\n",
            "Requirement already satisfied: async-timeout<5.0,>=4.0 in /usr/local/lib/python3.10/dist-packages (from aiohttp->datasets) (4.0.3)\n",
            "Requirement already satisfied: typing-extensions>=3.7.4.3 in /usr/local/lib/python3.10/dist-packages (from huggingface-hub>=0.21.2->datasets) (4.12.2)\n",
            "Requirement already satisfied: charset-normalizer<4,>=2 in /usr/local/lib/python3.10/dist-packages (from requests>=2.32.2->datasets) (3.3.2)\n",
            "Requirement already satisfied: idna<4,>=2.5 in /usr/local/lib/python3.10/dist-packages (from requests>=2.32.2->datasets) (3.7)\n",
            "Requirement already satisfied: urllib3<3,>=1.21.1 in /usr/local/lib/python3.10/dist-packages (from requests>=2.32.2->datasets) (2.0.7)\n",
            "Requirement already satisfied: certifi>=2017.4.17 in /usr/local/lib/python3.10/dist-packages (from requests>=2.32.2->datasets) (2024.7.4)\n",
            "Requirement already satisfied: python-dateutil>=2.8.2 in /usr/local/lib/python3.10/dist-packages (from pandas->datasets) (2.8.2)\n",
            "Requirement already satisfied: pytz>=2020.1 in /usr/local/lib/python3.10/dist-packages (from pandas->datasets) (2023.4)\n",
            "Requirement already satisfied: tzdata>=2022.1 in /usr/local/lib/python3.10/dist-packages (from pandas->datasets) (2024.1)\n",
            "Requirement already satisfied: six>=1.5 in /usr/local/lib/python3.10/dist-packages (from python-dateutil>=2.8.2->pandas->datasets) (1.16.0)\n",
            "Installing collected packages: xxhash, requests, pyarrow, dill, multiprocess, datasets\n",
            "  Attempting uninstall: requests\n",
            "    Found existing installation: requests 2.31.0\n",
            "    Uninstalling requests-2.31.0:\n",
            "      Successfully uninstalled requests-2.31.0\n",
            "  Attempting uninstall: pyarrow\n",
            "    Found existing installation: pyarrow 14.0.2\n",
            "    Uninstalling pyarrow-14.0.2:\n",
            "      Successfully uninstalled pyarrow-14.0.2\n",
            "\u001b[31mERROR: pip's dependency resolver does not currently take into account all the packages that are installed. This behaviour is the source of the following dependency conflicts.\n",
            "cudf-cu12 24.4.1 requires pyarrow<15.0.0a0,>=14.0.1, but you have pyarrow 17.0.0 which is incompatible.\n",
            "google-colab 1.0.0 requires requests==2.31.0, but you have requests 2.32.3 which is incompatible.\n",
            "ibis-framework 8.0.0 requires pyarrow<16,>=2, but you have pyarrow 17.0.0 which is incompatible.\u001b[0m\u001b[31m\n",
            "\u001b[0mSuccessfully installed datasets-2.20.0 dill-0.3.8 multiprocess-0.70.16 pyarrow-17.0.0 requests-2.32.3 xxhash-3.4.1\n"
          ]
        },
        {
          "output_type": "display_data",
          "data": {
            "application/vnd.colab-display-data+json": {
              "pip_warning": {
                "packages": [
                  "pyarrow",
                  "requests"
                ]
              },
              "id": "164b240273d64656812895bff633ea5a"
            }
          },
          "metadata": {}
        },
        {
          "output_type": "stream",
          "name": "stdout",
          "text": [
            "Collecting transformers==4.17\n",
            "  Downloading transformers-4.17.0-py3-none-any.whl (3.8 MB)\n",
            "\u001b[2K     \u001b[90m━━━━━━━━━━━━━━━━━━━━━━━━━━━━━━━━━━━━━━━━\u001b[0m \u001b[32m3.8/3.8 MB\u001b[0m \u001b[31m43.3 MB/s\u001b[0m eta \u001b[36m0:00:00\u001b[0m\n",
            "\u001b[?25hRequirement already satisfied: filelock in /usr/local/lib/python3.10/dist-packages (from transformers==4.17) (3.15.4)\n",
            "Requirement already satisfied: huggingface-hub<1.0,>=0.1.0 in /usr/local/lib/python3.10/dist-packages (from transformers==4.17) (0.23.5)\n",
            "Requirement already satisfied: numpy>=1.17 in /usr/local/lib/python3.10/dist-packages (from transformers==4.17) (1.25.2)\n",
            "Requirement already satisfied: packaging>=20.0 in /usr/local/lib/python3.10/dist-packages (from transformers==4.17) (24.1)\n",
            "Requirement already satisfied: pyyaml>=5.1 in /usr/local/lib/python3.10/dist-packages (from transformers==4.17) (6.0.1)\n",
            "Requirement already satisfied: regex!=2019.12.17 in /usr/local/lib/python3.10/dist-packages (from transformers==4.17) (2024.5.15)\n",
            "Requirement already satisfied: requests in /usr/local/lib/python3.10/dist-packages (from transformers==4.17) (2.32.3)\n",
            "Collecting sacremoses (from transformers==4.17)\n",
            "  Downloading sacremoses-0.1.1-py3-none-any.whl (897 kB)\n",
            "\u001b[2K     \u001b[90m━━━━━━━━━━━━━━━━━━━━━━━━━━━━━━━━━━━━━━━━\u001b[0m \u001b[32m897.5/897.5 kB\u001b[0m \u001b[31m70.0 MB/s\u001b[0m eta \u001b[36m0:00:00\u001b[0m\n",
            "\u001b[?25hRequirement already satisfied: tokenizers!=0.11.3,>=0.11.1 in /usr/local/lib/python3.10/dist-packages (from transformers==4.17) (0.19.1)\n",
            "Requirement already satisfied: tqdm>=4.27 in /usr/local/lib/python3.10/dist-packages (from transformers==4.17) (4.66.4)\n",
            "Requirement already satisfied: fsspec>=2023.5.0 in /usr/local/lib/python3.10/dist-packages (from huggingface-hub<1.0,>=0.1.0->transformers==4.17) (2023.6.0)\n",
            "Requirement already satisfied: typing-extensions>=3.7.4.3 in /usr/local/lib/python3.10/dist-packages (from huggingface-hub<1.0,>=0.1.0->transformers==4.17) (4.12.2)\n",
            "Requirement already satisfied: charset-normalizer<4,>=2 in /usr/local/lib/python3.10/dist-packages (from requests->transformers==4.17) (3.3.2)\n",
            "Requirement already satisfied: idna<4,>=2.5 in /usr/local/lib/python3.10/dist-packages (from requests->transformers==4.17) (3.7)\n",
            "Requirement already satisfied: urllib3<3,>=1.21.1 in /usr/local/lib/python3.10/dist-packages (from requests->transformers==4.17) (2.0.7)\n",
            "Requirement already satisfied: certifi>=2017.4.17 in /usr/local/lib/python3.10/dist-packages (from requests->transformers==4.17) (2024.7.4)\n",
            "Requirement already satisfied: click in /usr/local/lib/python3.10/dist-packages (from sacremoses->transformers==4.17) (8.1.7)\n",
            "Requirement already satisfied: joblib in /usr/local/lib/python3.10/dist-packages (from sacremoses->transformers==4.17) (1.4.2)\n",
            "Installing collected packages: sacremoses, transformers\n",
            "  Attempting uninstall: transformers\n",
            "    Found existing installation: transformers 4.42.4\n",
            "    Uninstalling transformers-4.42.4:\n",
            "      Successfully uninstalled transformers-4.42.4\n",
            "Successfully installed sacremoses-0.1.1 transformers-4.17.0\n"
          ]
        },
        {
          "output_type": "display_data",
          "data": {
            "application/vnd.colab-display-data+json": {
              "pip_warning": {
                "packages": [
                  "transformers"
                ]
              },
              "id": "14eb2f159a3249478d546ede307a0461"
            }
          },
          "metadata": {}
        }
      ]
    },
    {
      "cell_type": "code",
      "source": [
        "from transformers import T5Tokenizer, T5ForConditionalGeneration\n",
        "from transformers import Trainer, TrainingArguments\n",
        "from sklearn.model_selection import train_test_split\n",
        "\n",
        "import torch\n",
        "import pandas as pd\n",
        "import numpy as np"
      ],
      "metadata": {
        "id": "T50OApCCBraA"
      },
      "execution_count": 1,
      "outputs": []
    },
    {
      "cell_type": "markdown",
      "source": [
        "# 데이터 준비 및 전처리"
      ],
      "metadata": {
        "id": "dfzwmFNREDDQ"
      }
    },
    {
      "cell_type": "code",
      "source": [
        "review = pd.read_csv('/content/drive/MyDrive/ASAC 데이터 분석 과정/기업연계_프로젝트/encoded_review_df_filtered.csv')\n",
        "review.head(1)\n",
        "\n",
        "df = review"
      ],
      "metadata": {
        "id": "aeOhKMItCUTc"
      },
      "execution_count": null,
      "outputs": []
    },
    {
      "cell_type": "code",
      "source": [
        "### 가게 리뷰 groupby 통합\n",
        "\n",
        "temp_df = df.drop(['review_id','user_id', 'date'], axis=1)\n",
        "group_temp = temp_df.groupby('business_id').agg({\n",
        "    'text': ' '.join,\n",
        "    'stars': ['count','mean'],\n",
        "    'useful': 'sum',\n",
        "    'funny': 'sum',\n",
        "    'cool': 'sum'\n",
        "    }).reset_index()"
      ],
      "metadata": {
        "id": "qdFhyxZPwTnv"
      },
      "execution_count": 8,
      "outputs": []
    },
    {
      "cell_type": "markdown",
      "source": [
        "# T5 모델 리뷰 요약(summarization)\n",
        "\n",
        "- 통일된 접근법: T5는 텍스트를 텍스트로 변환하는 일관된 접근 방식을 사용하여 키워드 생성 등 다양한 작업을 수행\n",
        "- 다양한 작업 수행 능력: 텍스트 요약, 번역, 질문 생성, 키워드 생성 등 여러 작업을 하나의 모델로 수행"
      ],
      "metadata": {
        "id": "gnm35dk4oy-K"
      }
    },
    {
      "cell_type": "code",
      "source": [
        "import pandas as pd\n",
        "from transformers import T5Tokenizer, T5ForConditionalGeneration\n",
        "from multiprocessing import Pool, set_start_method, cpu_count\n",
        "from tqdm import tqdm\n",
        "import numpy as np\n",
        "import torch\n",
        "\n",
        "# 'spawn' 시작 방법 설정\n",
        "set_start_method('spawn', force=True)\n",
        "\n",
        "# 1. 토크나이저와 모델 로드\n",
        "tokenizer = T5Tokenizer.from_pretrained('t5-small')\n",
        "model = T5ForConditionalGeneration.from_pretrained('t5-small')\n",
        "device = torch.device('cuda' if torch.cuda.is_available() else 'cpu')\n",
        "model.to(device)"
      ],
      "metadata": {
        "id": "UXEYi9FhDrg1"
      },
      "execution_count": null,
      "outputs": []
    },
    {
      "cell_type": "code",
      "source": [
        "# 2. 텍스트 요약 함수 정의\n",
        "def summarize_text(text):\n",
        "    input_text = \"summarize: \" + text\n",
        "    input_ids = tokenizer.encode(input_text, return_tensors='pt').to(device)\n",
        "    outputs = model.generate(input_ids=input_ids, max_length=150, num_beams=4, early_stopping=True)\n",
        "    summary = tokenizer.decode(outputs[0], skip_special_tokens=True)\n",
        "    return summary"
      ],
      "metadata": {
        "id": "gxgAi8U-j0ey"
      },
      "execution_count": null,
      "outputs": []
    },
    {
      "cell_type": "markdown",
      "source": [
        "## 결과 확인"
      ],
      "metadata": {
        "id": "s7Gx7_moGbBe"
      }
    },
    {
      "cell_type": "code",
      "source": [
        "summarize_text(df['text'][0])"
      ],
      "metadata": {
        "id": "uFRlBeTvJe4P",
        "colab": {
          "base_uri": "https://localhost:8080/",
          "height": 36
        },
        "outputId": "130a4ac4-9037-4031-e94d-c799355348eb"
      },
      "execution_count": null,
      "outputs": [
        {
          "output_type": "execute_result",
          "data": {
            "text/plain": [
              "'we have tried it multiple times, because I want to like it! the food is good, but it takes a very long time to come out.'"
            ],
            "application/vnd.google.colaboratory.intrinsic+json": {
              "type": "string"
            }
          },
          "metadata": {},
          "execution_count": 23
        }
      ]
    },
    {
      "cell_type": "code",
      "source": [],
      "metadata": {
        "colab": {
          "base_uri": "https://localhost:8080/",
          "height": 424
        },
        "id": "mrx3FFeAxhRk",
        "outputId": "0a993c95-656f-4fa1-f13f-9d5ccf06b56c"
      },
      "execution_count": 7,
      "outputs": [
        {
          "output_type": "execute_result",
          "data": {
            "text/plain": [
              "         business_id  stars  useful  funny  cool  \\\n",
              "0              80739    3.0       0      0     0   \n",
              "1              98537    4.0       1      0     1   \n",
              "2              94651    4.0       1      0     1   \n",
              "3              92221    5.0       0      0     0   \n",
              "4              92778    5.0       0      0     0   \n",
              "...              ...    ...     ...    ...   ...   \n",
              "2680156        93796    1.0       1      2     0   \n",
              "2680157       121621    4.0       1      0     0   \n",
              "2680158        67194    4.0       2      0     1   \n",
              "2680159       102240    3.0       1      1     0   \n",
              "2680160        75424    3.0      10      3     7   \n",
              "\n",
              "                                                      text  \n",
              "0        If you decide to eat here, just be aware it is...  \n",
              "1        Cute interior and owner (?) gave us tour of up...  \n",
              "2        I was really between 3 and 4 stars for this on...  \n",
              "3        First time there and it was excellent!!! It fe...  \n",
              "4        Great burgers,fries and salad!  Burgers have a...  \n",
              "...                                                    ...  \n",
              "2680156  The supper club is ridiculously expensive. So,...  \n",
              "2680157  Took a colleague here for dinner as we were tr...  \n",
              "2680158  This place never fails the food is absolutely ...  \n",
              "2680159  This is a good pizza option - they deliver thr...  \n",
              "2680160  Located in the 'Walking District' in Nashville...  \n",
              "\n",
              "[2680161 rows x 6 columns]"
            ],
            "text/html": [
              "\n",
              "  <div id=\"df-dccb7840-22da-43c2-958b-d9d5c2992df8\" class=\"colab-df-container\">\n",
              "    <div>\n",
              "<style scoped>\n",
              "    .dataframe tbody tr th:only-of-type {\n",
              "        vertical-align: middle;\n",
              "    }\n",
              "\n",
              "    .dataframe tbody tr th {\n",
              "        vertical-align: top;\n",
              "    }\n",
              "\n",
              "    .dataframe thead th {\n",
              "        text-align: right;\n",
              "    }\n",
              "</style>\n",
              "<table border=\"1\" class=\"dataframe\">\n",
              "  <thead>\n",
              "    <tr style=\"text-align: right;\">\n",
              "      <th></th>\n",
              "      <th>business_id</th>\n",
              "      <th>stars</th>\n",
              "      <th>useful</th>\n",
              "      <th>funny</th>\n",
              "      <th>cool</th>\n",
              "      <th>text</th>\n",
              "    </tr>\n",
              "  </thead>\n",
              "  <tbody>\n",
              "    <tr>\n",
              "      <th>0</th>\n",
              "      <td>80739</td>\n",
              "      <td>3.0</td>\n",
              "      <td>0</td>\n",
              "      <td>0</td>\n",
              "      <td>0</td>\n",
              "      <td>If you decide to eat here, just be aware it is...</td>\n",
              "    </tr>\n",
              "    <tr>\n",
              "      <th>1</th>\n",
              "      <td>98537</td>\n",
              "      <td>4.0</td>\n",
              "      <td>1</td>\n",
              "      <td>0</td>\n",
              "      <td>1</td>\n",
              "      <td>Cute interior and owner (?) gave us tour of up...</td>\n",
              "    </tr>\n",
              "    <tr>\n",
              "      <th>2</th>\n",
              "      <td>94651</td>\n",
              "      <td>4.0</td>\n",
              "      <td>1</td>\n",
              "      <td>0</td>\n",
              "      <td>1</td>\n",
              "      <td>I was really between 3 and 4 stars for this on...</td>\n",
              "    </tr>\n",
              "    <tr>\n",
              "      <th>3</th>\n",
              "      <td>92221</td>\n",
              "      <td>5.0</td>\n",
              "      <td>0</td>\n",
              "      <td>0</td>\n",
              "      <td>0</td>\n",
              "      <td>First time there and it was excellent!!! It fe...</td>\n",
              "    </tr>\n",
              "    <tr>\n",
              "      <th>4</th>\n",
              "      <td>92778</td>\n",
              "      <td>5.0</td>\n",
              "      <td>0</td>\n",
              "      <td>0</td>\n",
              "      <td>0</td>\n",
              "      <td>Great burgers,fries and salad!  Burgers have a...</td>\n",
              "    </tr>\n",
              "    <tr>\n",
              "      <th>...</th>\n",
              "      <td>...</td>\n",
              "      <td>...</td>\n",
              "      <td>...</td>\n",
              "      <td>...</td>\n",
              "      <td>...</td>\n",
              "      <td>...</td>\n",
              "    </tr>\n",
              "    <tr>\n",
              "      <th>2680156</th>\n",
              "      <td>93796</td>\n",
              "      <td>1.0</td>\n",
              "      <td>1</td>\n",
              "      <td>2</td>\n",
              "      <td>0</td>\n",
              "      <td>The supper club is ridiculously expensive. So,...</td>\n",
              "    </tr>\n",
              "    <tr>\n",
              "      <th>2680157</th>\n",
              "      <td>121621</td>\n",
              "      <td>4.0</td>\n",
              "      <td>1</td>\n",
              "      <td>0</td>\n",
              "      <td>0</td>\n",
              "      <td>Took a colleague here for dinner as we were tr...</td>\n",
              "    </tr>\n",
              "    <tr>\n",
              "      <th>2680158</th>\n",
              "      <td>67194</td>\n",
              "      <td>4.0</td>\n",
              "      <td>2</td>\n",
              "      <td>0</td>\n",
              "      <td>1</td>\n",
              "      <td>This place never fails the food is absolutely ...</td>\n",
              "    </tr>\n",
              "    <tr>\n",
              "      <th>2680159</th>\n",
              "      <td>102240</td>\n",
              "      <td>3.0</td>\n",
              "      <td>1</td>\n",
              "      <td>1</td>\n",
              "      <td>0</td>\n",
              "      <td>This is a good pizza option - they deliver thr...</td>\n",
              "    </tr>\n",
              "    <tr>\n",
              "      <th>2680160</th>\n",
              "      <td>75424</td>\n",
              "      <td>3.0</td>\n",
              "      <td>10</td>\n",
              "      <td>3</td>\n",
              "      <td>7</td>\n",
              "      <td>Located in the 'Walking District' in Nashville...</td>\n",
              "    </tr>\n",
              "  </tbody>\n",
              "</table>\n",
              "<p>2680161 rows × 6 columns</p>\n",
              "</div>\n",
              "    <div class=\"colab-df-buttons\">\n",
              "\n",
              "  <div class=\"colab-df-container\">\n",
              "    <button class=\"colab-df-convert\" onclick=\"convertToInteractive('df-dccb7840-22da-43c2-958b-d9d5c2992df8')\"\n",
              "            title=\"Convert this dataframe to an interactive table.\"\n",
              "            style=\"display:none;\">\n",
              "\n",
              "  <svg xmlns=\"http://www.w3.org/2000/svg\" height=\"24px\" viewBox=\"0 -960 960 960\">\n",
              "    <path d=\"M120-120v-720h720v720H120Zm60-500h600v-160H180v160Zm220 220h160v-160H400v160Zm0 220h160v-160H400v160ZM180-400h160v-160H180v160Zm440 0h160v-160H620v160ZM180-180h160v-160H180v160Zm440 0h160v-160H620v160Z\"/>\n",
              "  </svg>\n",
              "    </button>\n",
              "\n",
              "  <style>\n",
              "    .colab-df-container {\n",
              "      display:flex;\n",
              "      gap: 12px;\n",
              "    }\n",
              "\n",
              "    .colab-df-convert {\n",
              "      background-color: #E8F0FE;\n",
              "      border: none;\n",
              "      border-radius: 50%;\n",
              "      cursor: pointer;\n",
              "      display: none;\n",
              "      fill: #1967D2;\n",
              "      height: 32px;\n",
              "      padding: 0 0 0 0;\n",
              "      width: 32px;\n",
              "    }\n",
              "\n",
              "    .colab-df-convert:hover {\n",
              "      background-color: #E2EBFA;\n",
              "      box-shadow: 0px 1px 2px rgba(60, 64, 67, 0.3), 0px 1px 3px 1px rgba(60, 64, 67, 0.15);\n",
              "      fill: #174EA6;\n",
              "    }\n",
              "\n",
              "    .colab-df-buttons div {\n",
              "      margin-bottom: 4px;\n",
              "    }\n",
              "\n",
              "    [theme=dark] .colab-df-convert {\n",
              "      background-color: #3B4455;\n",
              "      fill: #D2E3FC;\n",
              "    }\n",
              "\n",
              "    [theme=dark] .colab-df-convert:hover {\n",
              "      background-color: #434B5C;\n",
              "      box-shadow: 0px 1px 3px 1px rgba(0, 0, 0, 0.15);\n",
              "      filter: drop-shadow(0px 1px 2px rgba(0, 0, 0, 0.3));\n",
              "      fill: #FFFFFF;\n",
              "    }\n",
              "  </style>\n",
              "\n",
              "    <script>\n",
              "      const buttonEl =\n",
              "        document.querySelector('#df-dccb7840-22da-43c2-958b-d9d5c2992df8 button.colab-df-convert');\n",
              "      buttonEl.style.display =\n",
              "        google.colab.kernel.accessAllowed ? 'block' : 'none';\n",
              "\n",
              "      async function convertToInteractive(key) {\n",
              "        const element = document.querySelector('#df-dccb7840-22da-43c2-958b-d9d5c2992df8');\n",
              "        const dataTable =\n",
              "          await google.colab.kernel.invokeFunction('convertToInteractive',\n",
              "                                                    [key], {});\n",
              "        if (!dataTable) return;\n",
              "\n",
              "        const docLinkHtml = 'Like what you see? Visit the ' +\n",
              "          '<a target=\"_blank\" href=https://colab.research.google.com/notebooks/data_table.ipynb>data table notebook</a>'\n",
              "          + ' to learn more about interactive tables.';\n",
              "        element.innerHTML = '';\n",
              "        dataTable['output_type'] = 'display_data';\n",
              "        await google.colab.output.renderOutput(dataTable, element);\n",
              "        const docLink = document.createElement('div');\n",
              "        docLink.innerHTML = docLinkHtml;\n",
              "        element.appendChild(docLink);\n",
              "      }\n",
              "    </script>\n",
              "  </div>\n",
              "\n",
              "\n",
              "<div id=\"df-5e6145f7-d57b-458b-827d-34a306948642\">\n",
              "  <button class=\"colab-df-quickchart\" onclick=\"quickchart('df-5e6145f7-d57b-458b-827d-34a306948642')\"\n",
              "            title=\"Suggest charts\"\n",
              "            style=\"display:none;\">\n",
              "\n",
              "<svg xmlns=\"http://www.w3.org/2000/svg\" height=\"24px\"viewBox=\"0 0 24 24\"\n",
              "     width=\"24px\">\n",
              "    <g>\n",
              "        <path d=\"M19 3H5c-1.1 0-2 .9-2 2v14c0 1.1.9 2 2 2h14c1.1 0 2-.9 2-2V5c0-1.1-.9-2-2-2zM9 17H7v-7h2v7zm4 0h-2V7h2v10zm4 0h-2v-4h2v4z\"/>\n",
              "    </g>\n",
              "</svg>\n",
              "  </button>\n",
              "\n",
              "<style>\n",
              "  .colab-df-quickchart {\n",
              "      --bg-color: #E8F0FE;\n",
              "      --fill-color: #1967D2;\n",
              "      --hover-bg-color: #E2EBFA;\n",
              "      --hover-fill-color: #174EA6;\n",
              "      --disabled-fill-color: #AAA;\n",
              "      --disabled-bg-color: #DDD;\n",
              "  }\n",
              "\n",
              "  [theme=dark] .colab-df-quickchart {\n",
              "      --bg-color: #3B4455;\n",
              "      --fill-color: #D2E3FC;\n",
              "      --hover-bg-color: #434B5C;\n",
              "      --hover-fill-color: #FFFFFF;\n",
              "      --disabled-bg-color: #3B4455;\n",
              "      --disabled-fill-color: #666;\n",
              "  }\n",
              "\n",
              "  .colab-df-quickchart {\n",
              "    background-color: var(--bg-color);\n",
              "    border: none;\n",
              "    border-radius: 50%;\n",
              "    cursor: pointer;\n",
              "    display: none;\n",
              "    fill: var(--fill-color);\n",
              "    height: 32px;\n",
              "    padding: 0;\n",
              "    width: 32px;\n",
              "  }\n",
              "\n",
              "  .colab-df-quickchart:hover {\n",
              "    background-color: var(--hover-bg-color);\n",
              "    box-shadow: 0 1px 2px rgba(60, 64, 67, 0.3), 0 1px 3px 1px rgba(60, 64, 67, 0.15);\n",
              "    fill: var(--button-hover-fill-color);\n",
              "  }\n",
              "\n",
              "  .colab-df-quickchart-complete:disabled,\n",
              "  .colab-df-quickchart-complete:disabled:hover {\n",
              "    background-color: var(--disabled-bg-color);\n",
              "    fill: var(--disabled-fill-color);\n",
              "    box-shadow: none;\n",
              "  }\n",
              "\n",
              "  .colab-df-spinner {\n",
              "    border: 2px solid var(--fill-color);\n",
              "    border-color: transparent;\n",
              "    border-bottom-color: var(--fill-color);\n",
              "    animation:\n",
              "      spin 1s steps(1) infinite;\n",
              "  }\n",
              "\n",
              "  @keyframes spin {\n",
              "    0% {\n",
              "      border-color: transparent;\n",
              "      border-bottom-color: var(--fill-color);\n",
              "      border-left-color: var(--fill-color);\n",
              "    }\n",
              "    20% {\n",
              "      border-color: transparent;\n",
              "      border-left-color: var(--fill-color);\n",
              "      border-top-color: var(--fill-color);\n",
              "    }\n",
              "    30% {\n",
              "      border-color: transparent;\n",
              "      border-left-color: var(--fill-color);\n",
              "      border-top-color: var(--fill-color);\n",
              "      border-right-color: var(--fill-color);\n",
              "    }\n",
              "    40% {\n",
              "      border-color: transparent;\n",
              "      border-right-color: var(--fill-color);\n",
              "      border-top-color: var(--fill-color);\n",
              "    }\n",
              "    60% {\n",
              "      border-color: transparent;\n",
              "      border-right-color: var(--fill-color);\n",
              "    }\n",
              "    80% {\n",
              "      border-color: transparent;\n",
              "      border-right-color: var(--fill-color);\n",
              "      border-bottom-color: var(--fill-color);\n",
              "    }\n",
              "    90% {\n",
              "      border-color: transparent;\n",
              "      border-bottom-color: var(--fill-color);\n",
              "    }\n",
              "  }\n",
              "</style>\n",
              "\n",
              "  <script>\n",
              "    async function quickchart(key) {\n",
              "      const quickchartButtonEl =\n",
              "        document.querySelector('#' + key + ' button');\n",
              "      quickchartButtonEl.disabled = true;  // To prevent multiple clicks.\n",
              "      quickchartButtonEl.classList.add('colab-df-spinner');\n",
              "      try {\n",
              "        const charts = await google.colab.kernel.invokeFunction(\n",
              "            'suggestCharts', [key], {});\n",
              "      } catch (error) {\n",
              "        console.error('Error during call to suggestCharts:', error);\n",
              "      }\n",
              "      quickchartButtonEl.classList.remove('colab-df-spinner');\n",
              "      quickchartButtonEl.classList.add('colab-df-quickchart-complete');\n",
              "    }\n",
              "    (() => {\n",
              "      let quickchartButtonEl =\n",
              "        document.querySelector('#df-5e6145f7-d57b-458b-827d-34a306948642 button');\n",
              "      quickchartButtonEl.style.display =\n",
              "        google.colab.kernel.accessAllowed ? 'block' : 'none';\n",
              "    })();\n",
              "  </script>\n",
              "</div>\n",
              "\n",
              "  <div id=\"id_c9898f23-c2e9-41da-8fca-ad97f6ed796a\">\n",
              "    <style>\n",
              "      .colab-df-generate {\n",
              "        background-color: #E8F0FE;\n",
              "        border: none;\n",
              "        border-radius: 50%;\n",
              "        cursor: pointer;\n",
              "        display: none;\n",
              "        fill: #1967D2;\n",
              "        height: 32px;\n",
              "        padding: 0 0 0 0;\n",
              "        width: 32px;\n",
              "      }\n",
              "\n",
              "      .colab-df-generate:hover {\n",
              "        background-color: #E2EBFA;\n",
              "        box-shadow: 0px 1px 2px rgba(60, 64, 67, 0.3), 0px 1px 3px 1px rgba(60, 64, 67, 0.15);\n",
              "        fill: #174EA6;\n",
              "      }\n",
              "\n",
              "      [theme=dark] .colab-df-generate {\n",
              "        background-color: #3B4455;\n",
              "        fill: #D2E3FC;\n",
              "      }\n",
              "\n",
              "      [theme=dark] .colab-df-generate:hover {\n",
              "        background-color: #434B5C;\n",
              "        box-shadow: 0px 1px 3px 1px rgba(0, 0, 0, 0.15);\n",
              "        filter: drop-shadow(0px 1px 2px rgba(0, 0, 0, 0.3));\n",
              "        fill: #FFFFFF;\n",
              "      }\n",
              "    </style>\n",
              "    <button class=\"colab-df-generate\" onclick=\"generateWithVariable('temp_df')\"\n",
              "            title=\"Generate code using this dataframe.\"\n",
              "            style=\"display:none;\">\n",
              "\n",
              "  <svg xmlns=\"http://www.w3.org/2000/svg\" height=\"24px\"viewBox=\"0 0 24 24\"\n",
              "       width=\"24px\">\n",
              "    <path d=\"M7,19H8.4L18.45,9,17,7.55,7,17.6ZM5,21V16.75L18.45,3.32a2,2,0,0,1,2.83,0l1.4,1.43a1.91,1.91,0,0,1,.58,1.4,1.91,1.91,0,0,1-.58,1.4L9.25,21ZM18.45,9,17,7.55Zm-12,3A5.31,5.31,0,0,0,4.9,8.1,5.31,5.31,0,0,0,1,6.5,5.31,5.31,0,0,0,4.9,4.9,5.31,5.31,0,0,0,6.5,1,5.31,5.31,0,0,0,8.1,4.9,5.31,5.31,0,0,0,12,6.5,5.46,5.46,0,0,0,6.5,12Z\"/>\n",
              "  </svg>\n",
              "    </button>\n",
              "    <script>\n",
              "      (() => {\n",
              "      const buttonEl =\n",
              "        document.querySelector('#id_c9898f23-c2e9-41da-8fca-ad97f6ed796a button.colab-df-generate');\n",
              "      buttonEl.style.display =\n",
              "        google.colab.kernel.accessAllowed ? 'block' : 'none';\n",
              "\n",
              "      buttonEl.onclick = () => {\n",
              "        google.colab.notebook.generateWithVariable('temp_df');\n",
              "      }\n",
              "      })();\n",
              "    </script>\n",
              "  </div>\n",
              "\n",
              "    </div>\n",
              "  </div>\n"
            ],
            "application/vnd.google.colaboratory.intrinsic+json": {
              "type": "dataframe",
              "variable_name": "temp_df"
            }
          },
          "metadata": {},
          "execution_count": 7
        }
      ]
    },
    {
      "cell_type": "code",
      "source": [
        "group_temp.columns = ['business_id', 'text', 'count','stars','useful', 'funny', 'cool']"
      ],
      "metadata": {
        "id": "TUe1ltOHyIHL"
      },
      "execution_count": 9,
      "outputs": []
    },
    {
      "cell_type": "code",
      "source": [
        "group_temp.sort_values('count', ascending=False)"
      ],
      "metadata": {
        "id": "8ss_fosbyNVT"
      },
      "execution_count": null,
      "outputs": []
    },
    {
      "cell_type": "code",
      "source": [
        "summarize_text(group_temp['text'][0])"
      ],
      "metadata": {
        "colab": {
          "base_uri": "https://localhost:8080/",
          "height": 74
        },
        "id": "pvDWrSPjylhX",
        "outputId": "7690cea4-ffc3-46f7-816b-55fc41764189"
      },
      "execution_count": null,
      "outputs": [
        {
          "output_type": "stream",
          "name": "stderr",
          "text": [
            "Token indices sequence length is longer than the specified maximum sequence length for this model (1774 > 512). Running this sequence through the model will result in indexing errors\n"
          ]
        },
        {
          "output_type": "execute_result",
          "data": {
            "text/plain": [
              "\"a new local seafood spot in New Port Richie is a byob. the restaurant is a byob. it's the only place to get raw clams.\""
            ],
            "application/vnd.google.colaboratory.intrinsic+json": {
              "type": "string"
            }
          },
          "metadata": {},
          "execution_count": 29
        }
      ]
    },
    {
      "cell_type": "code",
      "source": [
        "summarize_text(group_temp['text'][2])"
      ],
      "metadata": {
        "colab": {
          "base_uri": "https://localhost:8080/",
          "height": 36
        },
        "id": "wtp9EqRbyyq_",
        "outputId": "d774add9-5587-48f8-f401-da87c2ab16ef"
      },
      "execution_count": null,
      "outputs": [
        {
          "output_type": "execute_result",
          "data": {
            "text/plain": [
              "\"humpty's is firmly on our blacklist. the service was fine, the food was DESPICABLE. the mashed potatoes tasted like acid reflux.\""
            ],
            "application/vnd.google.colaboratory.intrinsic+json": {
              "type": "string"
            }
          },
          "metadata": {},
          "execution_count": 33
        }
      ]
    },
    {
      "cell_type": "markdown",
      "source": [
        "## 가게 리뷰 합산 요약"
      ],
      "metadata": {
        "id": "l-EgCSEjGh76"
      }
    },
    {
      "cell_type": "code",
      "source": [
        "group_temp['text'][2]\n",
        "## 모델의 metric\n",
        "# ROGUE\n",
        "# 원문과 요약의 공통 비율\n",
        "# ROGUE 1 : 1-gram안에서의 공통 비율"
      ],
      "metadata": {
        "colab": {
          "base_uri": "https://localhost:8080/",
          "height": 286
        },
        "id": "eFxz7-sny4oj",
        "outputId": "56cdd3b9-c84f-431e-8012-50f14b639194"
      },
      "execution_count": null,
      "outputs": [
        {
          "output_type": "execute_result",
          "data": {
            "text/plain": [
              "'Server was ignorant, and did the bare minimum. My boyfriend and I had the Swiss chicken wraps, and the lettuce was soggy and old, and the tomatoes were extremely underripe. I brought the issue to the waitresses attention and nothing was done to fix the issue. Overall a not so great experience. The fries & gravy were tolerable, but not enough for us to return. I definitely do not recommend this establishment. My wife and I had some time to spare before going to the Royal Alex hospital so we decided on Humpty\\'s just across the street at 9AM. My wife ordered the waffle and I had the Canadian skillet. Coffee was plentiful. Orders arrived after 12 minutes which was ok considering the place was only about 1/4 full. Waffle topped with overly sweet whipped cream and some strawberries. I had a full skillet but 3/4 were potatoes. Couldn\\'t really tell how many eggs were in the skillet as there was a very unusual and off tasting yellow sauce. Needed a magnifying glass to find the bacon. I left 1/2 of the skillet for the kitchen staff. 15 minutes later I had to dash for the bathroom.....not pretty! Humpty\\'s firmly on our blacklist. Lunchtime while visiting a family member at the hospital.\\n\\nThe exterior and interior is rundown.\\nDrug use action just outside the front door.  Management does not care.\\nPan scrambler was not good.   Burnt eggs smothered in 7 Eleven nacho cheese.  \\nCabin stack sandwich tasted okay however portion size was not indicative of the price or menu photo.  Practically no meat and very small to begin with.   Side salad tasted like dirty bitter lettuce.\\n\\nDon\\'t be stupid enough to eat here is.  It is expensive and crappy.   Just eat at the cafeteria. My friends and myself came to humpty\\'s to have a nice breakfast and it was horrid and a disaster. the service was fine, the food was DESPICABLE. My friend ordered the \"chicken louie\" the mashed potatoes tasted like acid reflux and the chicken was so rubbery she couldn\\'t eat half of it. The ground beef in the \"Mexican scrambler\" was questionable too. My other friend ordered the \"crunchy chicken parmesan\" the pasta was watery and definitely unappealing and the vegetables were cold and clearly frozen. we all feel sick.'"
            ],
            "application/vnd.google.colaboratory.intrinsic+json": {
              "type": "string"
            }
          },
          "metadata": {},
          "execution_count": 34
        }
      ]
    },
    {
      "cell_type": "code",
      "source": [
        "df['text']"
      ],
      "metadata": {
        "colab": {
          "base_uri": "https://localhost:8080/"
        },
        "id": "CelEFAB2t1TB",
        "outputId": "8a9826d6-85a0-4560-8d61-a8162981c9e1"
      },
      "execution_count": 5,
      "outputs": [
        {
          "output_type": "execute_result",
          "data": {
            "text/plain": [
              "0          If you decide to eat here, just be aware it is...\n",
              "1          Cute interior and owner (?) gave us tour of up...\n",
              "2          I was really between 3 and 4 stars for this on...\n",
              "3          First time there and it was excellent!!! It fe...\n",
              "4          Great burgers,fries and salad!  Burgers have a...\n",
              "                                 ...                        \n",
              "2680156    The supper club is ridiculously expensive. So,...\n",
              "2680157    Took a colleague here for dinner as we were tr...\n",
              "2680158    This place never fails the food is absolutely ...\n",
              "2680159    This is a good pizza option - they deliver thr...\n",
              "2680160    Located in the 'Walking District' in Nashville...\n",
              "Name: text, Length: 2680161, dtype: object"
            ]
          },
          "metadata": {},
          "execution_count": 5
        }
      ]
    },
    {
      "cell_type": "markdown",
      "source": [
        "# T5 모델 Keyword 요약(keyword extract)"
      ],
      "metadata": {
        "id": "W5tXgPnXGrO9"
      }
    },
    {
      "cell_type": "code",
      "source": [
        "from transformers import T5Tokenizer, T5ForConditionalGeneration\n",
        "\n",
        "model = T5ForConditionalGeneration.from_pretrained(\"Voicelab/vlt5-base-keywords\")\n",
        "tokenizer = T5Tokenizer.from_pretrained(\"Voicelab/vlt5-base-keywords\")\n",
        "\n",
        "task_prefix = \"Keywords: \"\n",
        "# inputs = [\n",
        "#     \"Christina Katrakis, who spoke to the BBC from Vorokhta in western Ukraine, relays the account of one family, who say Russian soldiers shot at their vehicles while they were leaving their village near Chernobyl in northern Ukraine. She says the cars had white flags and signs saying they were carrying children.\",\n",
        "#     \"Decays the learning rate of each parameter group by gamma every step_size epochs. Notice that such decay can happen simultaneously with other changes to the learning rate from outside this scheduler. When last_epoch=-1, sets initial lr as lr.\",\n",
        "#     \"Hello, I'd like to order a pizza with salami topping.\",\n",
        "# ]\n",
        "\n",
        "for sample in df.loc[:10,'text']:\n",
        "    input_sequences = [task_prefix + sample]\n",
        "    input_ids = tokenizer(\n",
        "        input_sequences, return_tensors=\"pt\", truncation=True\n",
        "    ).input_ids\n",
        "    output = model.generate(input_ids, no_repeat_ngram_size=3, num_beams=4)\n",
        "    predicted = tokenizer.decode(output[0], skip_special_tokens=True)\n",
        "    print(sample, \"\\n --->\", predicted)\n"
      ],
      "metadata": {
        "colab": {
          "base_uri": "https://localhost:8080/"
        },
        "id": "zNs-QnZXrvGa",
        "outputId": "a320a6f5-223f-4315-8dca-a4817f7505f2"
      },
      "execution_count": 6,
      "outputs": [
        {
          "output_type": "stream",
          "name": "stderr",
          "text": [
            "Asking to truncate to max_length but no maximum length is provided and the model has no predefined maximum length. Default to no truncation.\n",
            "/usr/local/lib/python3.10/dist-packages/transformers/generation/utils.py:1249: UserWarning: Using the model-agnostic default `max_length` (=20) to control the generation length. We recommend setting `max_new_tokens` to control the maximum length of the generation.\n",
            "  warnings.warn(\n"
          ]
        },
        {
          "output_type": "stream",
          "name": "stdout",
          "text": [
            "If you decide to eat here, just be aware it is going to take about 2 hours from beginning to end. We have tried it multiple times, because I want to like it! I have been to it's other locations in NJ and never had a bad experience. \n",
            "\n",
            "The food is good, but it takes a very long time to come out. The waitstaff is very young, but usually pleasant. We have just had too many experiences where we spent way too long waiting. We usually opt for another diner or restaurant on the weekends, in order to be done quicker. \n",
            " ---> NJ, food, quicker, waitstaff\n",
            "Cute interior and owner (?) gave us tour of upcoming patio/rooftop area which will be great on beautiful days like today. Cheese curds were very good and very filling. Really like that sandwiches come w salad, esp after eating too many curds! Had the onion, gruyere, tomato sandwich. Wasn't too much cheese which I liked. Needed something else...pepper jelly maybe. Would like to see more menu options added such as salads w fun cheeses. Lots of beer and wine as well as limited cocktails. Next time I will try one of the draft wines. \n",
            " ---> cocktails, cheese curds, fun cheese, owner\n",
            "I was really between 3 and 4 stars for this one. I LOVE the 96th street Naked Tchopstix so I was very excited to see this one which is closer to my house.\n",
            "The vibe is totally different as this is geared more to take out although they do have a decent size dining area. You order at the counter and they deliver it.\n",
            "My daughter and I tried the sushi bowl. You pick up a piece of paper and  select from a choice of proteins, vegetables, rice and toppings. I like the fact that it is on paper and you don't have to guess what things are or have to shout over the counter to tell the server what you want. The sushi bowl was good but not wonderful. The choices particularly of the vegetables seemed a little too limiting and I felt I had more rice than other food items. The sauces were tasty. My husband ordered the Maui roll which is my favorite roll at the 96th street location and this just was not up that standard. It was good but the quality and consistently was not as good as at 96th street. I would go back though and I think a lot of people would be happy with the sushi bowls. I do want to make a comment about the low reviews that people have given the place because of service. People - it is a sushi place - it isn't McDonalds- so it will be a bit slower. You are not going to order and get out of there in five minutes even though it is called express. As a healthy alternative to fast food in the area, it is worth the wait. Oh and try the bubble tea. I had the strawberry and it was quite yummy. Next time I am going to try the vanilla chai. \n",
            " ---> maui roll, vegetables, sushi bowl\n",
            "First time there and it was excellent!!! It feels like your are entering someone's home. The waiters there funny and nice. The food come out very quickly and it is phenomenal!!! Definitely will be going back to this place. \n",
            " ---> food, vegetable, waiters\n",
            "Great burgers,fries and salad!  Burgers have a hint of salt and pepper flavor.\n",
            "\n",
            "This location is very quaint. They only have outdoor seating\n",
            "\n",
            "Friendly staff.\n",
            "\n",
            "Street parking as well as parking lot in the back. \n",
            " ---> burgers, salad, salt\n",
            "Great staff always helps and always nice. Always clean and huge store size. Stays stocked with everything you need. The staff always helps make my custom breakfast bagel \n",
            " ---> always helps, breakfast bagel\n",
            "My boyfriend and I tried this deli for the first time today. I had a turkey, avocado & bacon panini and he ha a buffalo chicken wrap. We will definitely be returning. The wait for food wasn't too long, which is always appreciated during lunch hour. There was SO much to choose from. They have salads, soup, macaroni, sandwiches and hot food. I love a deli that has many options to choose from! \n",
            " ---> avocado, deli, hot food\n",
            "Amazing biscuits and (fill in the blank). Great cocktails too. Highly recommended. A bit busy though. \n",
            " ---> biscuits, cocktails too\n",
            "Straight to the point, it's cheap, it tastes and feels cheap\n",
            "\n",
            "The good: price, location, dessert (edible food items are: baked chicken, fried chicken, mashed potatoes, Salad bar lol, meat and cheese bar, ravioli, pizza) also our waitress was bomb af\n",
            "\n",
            "The meh: behind counter meat slicing station, shrimp (not even deveined), Mexican station\n",
            "\n",
            "The bad: breakfast -worst eggs ever, actually worst, eggs. Le Benedict can't even cut through ham or English muffin (tried on all 3 occasions), steak, shrimp again, hell breaded items can't even, don't even. Decor it's the 1970 nightmare you can imagine\n",
            "\n",
            "Tried 3 times and failed \n",
            " ---> behind counter meat slicing station, breakfast,\n",
            "The cafe was extremely cute. We came at 8am and they even had a jazz band playing at that time. I got the breakfast sandwich and it was delicious. I loved how they rolled the egg and put the bacon pieces inside. Great price for a filling breakfast! \n",
            " ---> cafe, breakfast sandwich\n",
            "We started with the artichoke dip, big mistake. It was cold and the chips were stale. Mentioned to our waitress, but nothing came of it.  We ordered a large pizza, thin crust which after adding toppings it was a bit pricey for pizza.  Pizza was ok, not great. Except for not being our advocate our server was good.  I have been here before for Cardinals game, it was better then. Will try another venue next time. \n",
            " ---> Cardinals game, artichoke dip, mistake\n"
          ]
        }
      ]
    },
    {
      "cell_type": "code",
      "source": [
        "for sample in group_temp.loc[:10,'text']:\n",
        "    input_sequences = [task_prefix + sample]\n",
        "    input_ids = tokenizer(\n",
        "        input_sequences, return_tensors=\"pt\", truncation=True\n",
        "    ).input_ids\n",
        "    output = model.generate(input_ids, no_repeat_ngram_size=3, num_beams=4)\n",
        "    predicted = tokenizer.decode(output[0], skip_special_tokens=True)\n",
        "    print(sample, \"\\n --->\", predicted)"
      ],
      "metadata": {
        "colab": {
          "base_uri": "https://localhost:8080/"
        },
        "id": "9-WACxUtrv6f",
        "outputId": "15656bf6-6365-4525-ada7-466eaddfdf8a"
      },
      "execution_count": 10,
      "outputs": [
        {
          "output_type": "stream",
          "name": "stderr",
          "text": [
            "/usr/local/lib/python3.10/dist-packages/transformers/generation/utils.py:1249: UserWarning: Using the model-agnostic default `max_length` (=20) to control the generation length. We recommend setting `max_new_tokens` to control the maximum length of the generation.\n",
            "  warnings.warn(\n"
          ]
        },
        {
          "output_type": "stream",
          "name": "stdout",
          "text": [
            "Ate here for the 1st time on Saturday 08/07/2020. \n",
            "The food was ok, had the Lobster Boil . The Lobster was ok for a soft shelled Lobster. The Crabs were soggy and mushy. The Clams were gummy and snotty . The headed shrimp were large and tasty. All the items were precooked, obviously. The fish spread was decent , also had the Fried Shrimp and Shrimp scampi  which were decent. BYOB ... ... The atmosphere was nice except for the zillion Flies. I'll be back with a six pack Absolutely fantastic!!!!  I'll be back for sure. Fried lobster tail was delicious. Five star for sure. I was sadly disappointed in my experience. We ordered crabs and they were extremely small, watery and over half were bad(sick crabs), we ordered beans and rice which lacked flavor and literally had one bean in it that you can see from the picture. The coleslaw also lacked taste. We ask for grouper nuggets and a few were not cooked all the way. So given the food experience it was nothing like the reviews we read. Why I am giving them three stars is because the waitress that waited on us (young pregnant girl) was EXTREMELY polite and an excellent server. The owner came by our table and greeted us which is something not done often these days. They also took half off the crabs since half were bad trying to make it right but in the end we paid over $50 (including tip) for food that we barley ate and had to go to McDonald's after. \n",
            "I did see other food that may have been better choices but we came for the crab. Great new local seafood spot. It' actually real seafood! Great atmosphere! BYOB encouraged. This is a food truck alongside a picnic area. The atmosphere is fine--outdoor and casual.  They don't serve any alcohol...byob.  Service is great.  Food is meh! Great place for group of friends to meet & eat the freshest seafood in New Port Richie!  Friendly and very casual!   The chef answered questions and made great recommendations!   Servings were very generous with a really good slaw!  Pricing very reasonable considering the quality and portions!   We will come back again.  The menu changes with the daily catch so we will try the next new thing Frankie cooks up! Blown away how fun and awesome this little gem is! The atmosphere is so fun and festive and the garlic shrimp and fried lobster to die for! Cannot wait to go back and get some blue crabs steamed Baltimore style!!! It was a cold night but the heaters were perfect. It's BYOB which is also the bomb.com Never would have thought a little hidden place like this would have such great food! We had oysters garlic shrimp and crab cakes and everything was amazing ! It was so good I forgot to take pictures before I devoured everything! Will definitely be back ! Finale a local Fresh seafood place to go to. Had the top neck clams & crabs. Great job guys. Thanks see you again with our corona 6 pack. EVERYTHING we had on this menu was amazing . The stone crab claws are a must try, the sweet plantains, the garlic butter shrimp. All delicious. Service was awesome , just a nice laid  back place and you can BYOB. Our server annmarie was attentive and friendly. We met the owner Frankie and his family who were personable, friendly and went out of their way to make sure our daughter Bella had a great experience. Definitely will be back :) Be careful before ordering the coleslaw, I found a rusted push pin in mine. When I showed it to the waitress she apologized and said it came from the board above where food is prepared. Just thankful that I did not eat the pin, can't image the internal damage it could have done.  I was offered a free desert but passed on that. Don't know if I would go back. Unfortunately the site for Frankie's is incorrect on hours. When I called and got no answers assumed they were closed. Frankie call me back to say they were in fact open! That never happens so we went and found a diamond in the rough and a fantastic fresh seafood eatery. Joe the chef is a super nice guy and even better cook. Had ridiculously fresh oysters, fish dip, and lobster meal that rivaled the best we ever tasted. It's a byob, which I love also. We are only in Port Richey for a couple days but will likely eat there the rest of our evenings. Get there before everyone finds out and the wait is in the hours! Well done Frankie and thanks for bringing us in! What a fantastic casual seafood or BBQ local secret. No frills just amazing food. It was the best oysters I've had in decades. This location is right of of state road 54.\n",
            "\n",
            "Nice location to sit outside on a nice day. \n",
            "\n",
            "I ordered to go my order was ready in 10 minutes \n",
            "\n",
            "The staff was very polite \n",
            "\n",
            "My food was hot, fresh and tasty! The potion of coleslaw was huge an my lobster was a nice size. \n",
            "\n",
            "I will be coming back Don't drive by ... STOP at this \"Old Florida\" spot on 54!  Everything is fresh and delicious ... oh, and entertaining too!  Oysters on the half shell, raw cherry stone clams, fish spread, peel & eat shrimp, and Boom Boom shrimp appetizers - all excellent.  Triple Threat with triple tail, scallops and shrimp - blackened to your liking.  Crab cakes are great! Dozen blue crab may be the winner - to die for - and fun to eat!  Fish and chips with sea bass - sooo good!  Waiting to try the key lime dessert. But so far, everyone will be back! I love this place. Nice place for the girls to hang out, or grab some delicious food. It's a byob, so bring your favorite drink, kick back and relax. I like the Zen garden. Delightful when everything is in bloom. \n",
            "Owners are pleasant as are the waitresses. \n",
            "Will be returning with family. YUM! Such a cool place for lunch or dinner, love the atmosphere and the food is great! Staff is friendly!Shrimp and all other seafood is always cooked to perfection! Can't wait to come back :) Great atmosphere to match the incredible food and staff. The establishment makes you feel so comfortable and warm you don't want to leave! I had the Cuban Empanadas's and they were delicious  I ordered the baked beans also and they were some of the best I've ever had. I can't wait to keep going back until I've had everything on the menu....Twice!!!! the only place to get raw clams!!!!!! Shucked correctly\n",
            "\n",
            "oh and the conch fritters are \"award winning\" !!! Awesome raw bar /fish shack. Exactly how I love to eat.I got oysters, shrimp and the mahi. Can't wait to return!! Great little spot and best of all BYOB !!!!\n",
            "Love it \n",
            "\n",
            "Is the food was fresh coat and they brought in the stone crabs that night on ice !  The boiled shrimp are great and the outside seating makes it feel very old Florida which is cool  , oysters Rockefeller was  pretty good.... \n",
            "\n",
            "Local - down home - good seafood !\n",
            "\n",
            "Loved the stone crabs with melted butter Excellent food and service. Portions are a little light on the seafood, but top quality. Road was noisy. Hidden gem in NPR. Ordered the stone crabs, crab cakes, shrimp and fried lobster. Delicious! I highly recommend. The service is great, the food is awesome, bring your own drinks and let the good times roll. \n",
            " ---> coleslaw, fresh seafood, old food\n",
            "Didn't even get to try the papusas. Went in and ordered two orders. I left after waiting 45 minutes and no food. They started serving food to people who came after me. Horrible service. Won't be back. This place makes the best, most authentic pupusas in the area. Service can be slow but it's part of the charm. Be prepared to speak Spanish and enjoy delicious food! \n",
            " ---> Spanish, papusas, serving food\n",
            "Server was ignorant, and did the bare minimum. My boyfriend and I had the Swiss chicken wraps, and the lettuce was soggy and old, and the tomatoes were extremely underripe. I brought the issue to the waitresses attention and nothing was done to fix the issue. Overall a not so great experience. The fries & gravy were tolerable, but not enough for us to return. I definitely do not recommend this establishment. My wife and I had some time to spare before going to the Royal Alex hospital so we decided on Humpty's just across the street at 9AM. My wife ordered the waffle and I had the Canadian skillet. Coffee was plentiful. Orders arrived after 12 minutes which was ok considering the place was only about 1/4 full. Waffle topped with overly sweet whipped cream and some strawberries. I had a full skillet but 3/4 were potatoes. Couldn't really tell how many eggs were in the skillet as there was a very unusual and off tasting yellow sauce. Needed a magnifying glass to find the bacon. I left 1/2 of the skillet for the kitchen staff. 15 minutes later I had to dash for the bathroom.....not pretty! Humpty's firmly on our blacklist. Lunchtime while visiting a family member at the hospital.\n",
            "\n",
            "The exterior and interior is rundown.\n",
            "Drug use action just outside the front door.  Management does not care.\n",
            "Pan scrambler was not good.   Burnt eggs smothered in 7 Eleven nacho cheese.  \n",
            "Cabin stack sandwich tasted okay however portion size was not indicative of the price or menu photo.  Practically no meat and very small to begin with.   Side salad tasted like dirty bitter lettuce.\n",
            "\n",
            "Don't be stupid enough to eat here is.  It is expensive and crappy.   Just eat at the cafeteria. My friends and myself came to humpty's to have a nice breakfast and it was horrid and a disaster. the service was fine, the food was DESPICABLE. My friend ordered the \"chicken louie\" the mashed potatoes tasted like acid reflux and the chicken was so rubbery she couldn't eat half of it. The ground beef in the \"Mexican scrambler\" was questionable too. My other friend ordered the \"crunchy chicken parmesan\" the pasta was watery and definitely unappealing and the vegetables were cold and clearly frozen. we all feel sick. \n",
            " ---> acid reflux, cafeteria, coffee, humpty's,\n",
            "Took me for 40 bucks through grubhub, no call no show, said they got my order, and it never came, no phone call, no email. Not sure if its grubhubs fault. Either way no way to run a business. Place is nice and bathrooms are clean. There's a hand washing station. Pretty neat. Had the Caesar salad, garlic bbq wings, and plain wings. Food was good. Caesar had a little too much cheese but I I'll never complain about that. Lol. Only negative is they have a nice bar area, but don't serve liquor, as they don't have a license. Overall a nice joint. Quite dissappointed in this location.  The kitchen staff and take-out cashier had two verbal altercations while I waited for my spinach sandwich.  The sandwich had potential had the actually put spinach on it.  Each half ( at least 5 inches of bread,) had 4 leaves of spinach, so it was pretty much a bread sandwich! My friends and I were staying at NOLA for the weekend to run the Rock n Roll half marathon and ordered delivery. Fantastic! I had the lasagna which was very cheesy and creamy. My friends had the calzone and stuffed pizza. We stuffed ourselves and had enough for lunch the next day. Lunch special are greatly priced with excellent portions. I always grab the Greek gourmet pizza with and Italian salad. Speedy service, servers are always friendly. We went on a Saturday afternoon and had the place to ourselves. Service was friendly and prompt. Food was quick, hot, and yummy. Do yourself a favor and order the garlic bread! They were out of several soda options, besides that we had no complaints. This was our first visit, we brought our daughter out to dinner. It was 5:30pm and we were the only customers. Our table was dirty but we ordered drinks anyways. When we ordered, my daughter requested alfredo pasta but they were out. No big deal. We ordered our meals and about 10 minutes later the waitress told us that they were out of what my husband and I ordered. She did not know why they were out of things. At that point we paid for our drinks and left. I don't know what is going on with this place but they got my order wrong and never delivered the rest of it. After many phone calls I couldn't get them to refund me - only give me a credit. Something is sketchy here The Original Italian Pie is an all time favorite.  This place is affordable and kid friendly.  The pizza and the Shrimp pasta ties for my favorite.  The Cheesy bread is also a fave. New staff is needed! I preordered my food and was told 10 minutes. Gave it 15 to be safe. I arrive, oh for my food and sit... for an additional 15 minutes. Mind you, I can see my food bagged and ready to go. I know what I ordered will now be soggy and inedible so I request a refund. The owner was very sweet and accommodating but her employees had no concern for customers whatsoever. I was starving and now my lunch break is over and I have no food. My last time coming here. I'm tired of giving chances to undeserving businesses. We just had a to-go order delivered via Uber Eats. The salad was missing the breadsticks it said it came with, and the dressing was beyond disgusting. If that's the \"signature\" dressing, you might want to rethink it. My husband's wings were missing the sauce. We've given this location several tries (both dine-in and to go) as we're in the neighborhood, but never again! Fresh ingredients on my shrimp Florentine calzone....it was delicious. I wish I would have ordered two! Horrible and overpriced. I can't believe they even call this pizza. It was tough as cardboard, sauce and cheese weren't any better. Would have rather had a frozen Digiourno or Totinos Pizza. If you are in a pinch and really want pizza, skip this and just go to one of the national pizza chains. The lasagna is excellent and homemade! We also love the all meat pizza. The selling factor for me ordering from this location is their ability to deliver through UberEats. We order from this location at least twice per week. My brother and his family came into town and The Original Italian Pie catered food for their visit. Everyone was pleased with the food. Food is generally pretty good but service rarely is.  Sometimes music is played too loud to have a conversation.  Recently they were out of mozzarella sticks. I didn't even know that could happen at an Italian restaurant. I needed pretty quick delivery to the hotel and waited over an hour and a half for this calzone. Funny enough It has a great consistency, and a decent meatball filling, but the dough has no taste, nothing, I can't even explain what that feels like. Don't waste your money on the salad, does that look like a $4 'Caesar'? So this was entirely through GrubHub leaving no contact with staff or opinion on decor but the ridiculous order time? That was all their fault. It was steaming hot when it arrived letting me know GrubHub did their job well. Never even got to try the food. Ordered food via GrubHub. I still had not received it half an hour after the expected delivery time. I called the restaurant and they stated that the GrubHub driver had left with the food approximately ten minutes before. I waited an additional 30 minutes before calling GrubHub to ask the whereabouts of their driver. GrubHub informed me that the restaurant used their own delivery drivers, not GrubHub drivers. When I called the restaurant back and confronted them about having told me that this was GrubHub's fault, the guy on the phone replied that he \"had food to make\" and hung up on me. \n",
            " ---> caesar, frozen digiourno, fresh ingredients\n",
            "I always pass the sign for sweet lizard on my way home, but this is the first time I actually got to try it.  To be honest I wasn't expecting much, but I was pleasantly surprised. Great selection of toppings! The frozen yogurt was delicious and it was pretty affordable for a post dinner treat. I'll definitely be back :) I love this place. They have the most variety of toppings and fro yo . The place is always clean and the staff is super friendly! I highly recommend this place Our favorite frozen yogurt because the flavors are amazing and the topping choices can't be beat! Delicious! Just a average yogurt shop. The trip was nothing special to write about. In fact, there were areas that need improvement. \n",
            "\n",
            "First off we saw the \"open\" sign, but nobody was inside including the service counter. I tried the door thinking it was going to be closed and it was open. \n",
            "\n",
            "I noticed nobody was inside, and we found our way to the tasting cups at the end of the toppings bar. I grabbed a little yogurt pretzel on the way and it was so stale, I about gagged. The gal came out and greeted us in a bored--I don't want to be here manner. \n",
            "\n",
            "I took a tasting cup to the first flavor that stood out to me which was cupcake. It came out so watery it went all over my hand and in my wedding ring and everywhere else . I told the gal at the front and she let me know there was a bathroom in the back. The counter remained stained. \n",
            "\n",
            "I tasted the espresso, and noted no coffee flavor at all. It just tasted odd, that's all I can say. I chose the cookies and cream with the cupcake with a little strawberry. The quality was just OK. The flavor was just OK too.  No better than any other yogurt shop I've been to. And top it all off, it is quite pricey comparatively speaking... $.52 an ounce to be specific. \n",
            "\n",
            "I don't think we will be back, mostly because my other half was very unhappy with her choices and she did choose toppings. She commented all her toppings were either old & hard or stale. It took the wind out of our excitement to come and enjoy an ice cream after a nice dinner. First time there today. They have great flavors but went there for the many options of toppings! Such a huge variety and delicious. I noticed they work to be it clean too. Friendly and helpful worker. 5 stars because I love the yogurt & the staff... but I really hope the owner reads this: INVEST IN GLASS MASON JARS TO KEEP YOUR TOPPINGS FRESH & TASTING NATURAL. Every single item I put on my yogurt taste like a ziplock bag. You know why? Because you have your employees BAG all of it at the end of the night!! Sick dude. No excuse for running a business like that, seriously. Get with it.. you know what happens when you have great tasting toppings??? Your customers will actually enjoy them... & load up on them... making their yogurt heavier when they are checking out... You know what that means? MONEY! No need to worry about the cost of mason jars right?!? Hmmm food for thought..... One of the worst yogurt shops i have ever been to. When we walked up to the door we wondered if they were even open. No one was inside- not customers, nor the cashiers. The door was open, so we went in.\n",
            "\n",
            "The flavors of the yogurt were not all that enticing.: Birthday Cake, Expresso, Watermelon, Tart, and Cookies and Cream. When I finally settled on watermelon and a safe vanilla combo- I thought i might be in for an end of summer treat. I topped it with gummy bears and some mini m&ms. The yogurt came out of the dispenser very watery and melted into liquid immediately when it hit my bowl. As we made it to the cash register to pay-- the sleepy eyed  cashier finally came out from the back. Boy- what an attitude. We no doubt woke the princess up from her nap. Nope, no prince charming tonight- just us two older ladies hoping for a bite of a cool treat. \n",
            "\n",
            " The gummies were hard as rocks and the m&ms were stale. My friend got a cookies and cream and birthday cake. She said it was very artificial and she was unable to decipher the differences between the two flavors. She ate a pretzel that she said was also stale. \n",
            "\n",
            " We both left with a greasy artificial thickness on our tongue and were dying for water. Truly-- it was disgusting. Now I know why the place was empty-for the whole 30 min we were there. Time to close up shop or get with it. We made a vow to never- go back. Oh dear, not another one...\n",
            "\n",
            "I love me some fro yo. Sweet Lizard just went from my \"want to try\" to my \"most awesome\" list. They have fewer flavors than some pull-your-own places, which is fine with me - I prefer not to be overwhelmed by the selection - but everything I tried was good. I use the original tart flavor as a bellwether, and their California tart did not disappoint. The Irish cream was delightfully not too sweet with a bit of texture, the triple chocolate was divine, and the sea salt caramel was exquisite - and I do not like caramel in general. They have an extensive and tidily kept topping bar, and the service was terrific. I hate that they are so good because I don't need to be eating more fro yo, but I might have trouble staying out of this place. \n",
            " ---> birthday cake, frozen yo, topping, to\n",
            "I've continually given this location chance after chance to redeem themselves simply because the location is convenient, but unfortunately today was their last chance, and they fell short again. Fortunately for me, there is a Publix right across the street with professionals who are trained in customer service skills and truly care about the customers experience.\n",
            "\n",
            "The main issue here is the lack of customer service training, the unprofessionalism of employees, the lack of produce kept in stock, and the poor quality of fish and meats. \n",
            "\n",
            "There have been multiple visits now where I've needed a few simple ingredients and have left empty handed finding myself making an additional trip to Publix across the street because they don't have simple ingredients like Shitake Mushrooms, lemons, ginger, and arugula...just to name a few common ingredients that they don't carry or don't care to restock. \n",
            "\n",
            "I had a simple return to make this morning and there is no one at customer service to process returns. I ask a young lady where I can return my item and she says \" You have to wait in line with everyone else. Sorry. \". She points to the one lane open with 10 people standing in line while she and another employee are standing there on their phones chatting instead of opening up another lane to reduce the line. \n",
            "\n",
            "The management here simply doesn't care. In fact I've complained to a cashier before when they ask \"  did you find everything okay? \" (that is if they ask you, half of them don't bother because they don't care) and she basically told me that the management doesn't take the time of day to listen to complaints or fix the problems. This is a newer Winn Dixie off of Big Bend Rd. It's clean, and generally a little cheaper than Winn Dixie. The staff is nice and willing to assist help with whatever you need. If I can't get to the organic market for produce I check here before going to Publix. Shopped there this morning for a advertised item in their meat department \n",
            "Pork Butt for a $1.79 a # after finding none in the self-service case I inquired to a very clever meat department that the case behind me was full of them ,that being said I advised him behind the sign were pkgs of pork chops not butts... So! a sure of himself took me to show me them saying here they are... I'm saying to him those butts aren't the ones on sale.... Now the story gets new info ,he now informs me that it's a twin pack that is in this other case that is a service case and they are 20 lb package a dollar 79 you must buy the whole package none of that information is in the ad so I thank you for the update on the detail and took everything out of my cart and replaced it back on whatever shelves they came from and decided I wouldn't be back at that particular store again.... I'm certainly glad that they're not the only grocery store company in town.... Always clean, organized well staffed. Their staff is friendly and always willing to help. The only reason I don't give 4 stars is their deli and bakery is not that impressive. Also want to include their florist area as well in that needs improvement category. Compared to Publix they are a pale comparison. Other than those things this is my favorite grocer and go here at least once a week. Beer and wine isle is packed with everything especially local beers. Pharmacy is efficient and professional. Overall love this place I make every effort not to shop here. This business uses some questionable practices and have some questionable policies considering customers with color. About one month ago, my husband and I go to buy some apples. I make sure to pick the gala apples because they were less expensive. I get to the cash register and the cashier charges me for honey crisp apples which cost $1.50 more per apple. I explain to the cashier the price of the apples I had chosen and she calls her manager to confirm the price. I have never had that happen at Publix or even Walmart, as the customer, I am right at any other business I go to because I AM THE CUSTOMER. The manager comes back confirms the cashier was correct to charge me for apple crisp apples. Also she states that the gala apples aren't even out. I pay, walk back to produce take a picture and pull off the sign that states gala apples. All of which the cashier could not be bothered to do. I get back in line with my proof to get my money back. Again, the cashier cannot give refunds so I, the customer has to go find the manager. The same one who insinuated that I was stealing. Obviously annoyed, I approach the manager with my evidence.  Of course when approached with the undeniable proof, she refunds my money but not before she blamed the produce manager. She explained that she asked and that's what the produce manager told her. Readers, I did mention it was a sign posted, right? Also, I AM A CUSTOMER, why would she think it was professional to complain about one of her employees to me. Well, I believe it was because the Caucasian gentlemen (or appeared to be) behind just told the cashier of the price and it was fixed. On a separate occasion, there was an accident on Big Bend Road so I was forced into going to Winn Dixie. I had the very same issue with the price gouging of apples. Gala apples were mixed in with another brand and I was charged the higher amount. This time, I was prepared with pictures of the price sticker and pictures of the apple bins. The staff certainly needs training on customer service and how to approach their own personal bias. Parking is good and the store is clean but customer service and pricing policies need help! Go to another store if at all possible. The pharmacy of this Winn-Dixie at Big bend Road is not good. The major problems were: 1. When making appointment on website, every insurance information have been filled in. But the pharmacy still needs to re-fill out the same question form again that was wasting time. 2. The female India-American Pharmacist is very rude, and not like other medical service persons' kind should be. Not very much selection wise! Checkout only has like 10 lanes and only three are open. Slow slow slow! Although the store is clean! We really enjoy going to Winn-Dixie, and this is a very clean location. The Prices and Meat Quality are huge pluses for them over their competitors. The company leaves them understaffed but they do a great job at a very good location all things considered.\n",
            "\n",
            "The APP and Points system they implemented went down hill pretty quickly. The App has a lot of IT problems, and after their 2020 Super Bowl Ad they took the 10-15% Points Coupons and replaced it with Half Points on the Dollar... disappointing, as habit alone won't keep them long-term customers.\n",
            "\n",
            "Overall, GREAT prices, Clean, and a Good Location! Try them for good Price/Value. I originally thought that this store was fantastic. I walked in and the employees some maskless and some with masks. Today I walked in and it was as if they were reprogrammed. All the employees were masked. The problem with this is not only are they restricting their breathing which is their prerogative.(not smart). BUT they are constantly touching their masks and then touching all the food that we as consumers are purchasing to eat. When masks are worn they soak up saliva, mucus and bacteria. They are EXTREMELY unsanitary! This madness needs to stop. I hope that the word gets back to management and they stop being fearful of getting a cold. \n",
            "I gave a two star review because the butcher shop guys did not have masks on and they were extremely helpful when I was looking for an item. Otherwise given the cleanliness and hygiene issue I would have given it one star. If I could give 6 stars I would!! My Wife is a baker and we were in need of buttercream for a cake she needed to make last minute. The manager Trevor and Mary helped us out tremendously by providing us 10 ibs from  the bakery since they didn't sell it. They were truly helpful and it really made our day. Thank you so very much for the amazing experience and awesome customer service! \n",
            " ---> apple crisp apples, customer service,\n",
            "This place is sadly perm closed. I was hoping not, however the phone is now disconnected. These are the best hoagies and pizza in Ardmore. The hoagies are sliced to order and they use that real strong stinky provolone on the Italian hoagies. Love it. The pizza is great. The white pizza is nice and garlicky and seasoned well. The grandma pizza is fantastic as well. I hope this place can get more of a following. Great sandwichs. Order 7 different ones so far . Loved them all. Meat is sliced thin so it melts in your mouth. Very friendly and the service is fast. SANDWICH SEASON is coming up people. Go check out this shop. You taste buds and stomach will thank you. So this was just fine, but didn't quite live up to the five-star average. I had an Italian hoagie. Meat and cheese were high quality and the bread was fresh, if a little soft for my taste. $8.00 for a footlong seemed more than reasonable. \n",
            "\n",
            "The space is modest but well-kept and the folks running it could not have been nicer or more welcoming. \n",
            "\n",
            "That being said, it just wasn't a five-star sandwich for me-- I prefer Carlino's and Soprano's. Definitely worth a stop, though. Favorite Italian hoagie in the area. Other sandwiches are great as well! I have ordered a party tray from them and my family really enjoyed the options they offered. Their chicken salad is tasty as well. Sandwiches are made quickly and consistently well every time I order. Great quality, always fresh and delicious. Best Hoagies in Ardmore area. Salads are very good.  The few times I ordered party trays, the crowd really liked the hoagies and asked where I got them from.  Very pleased. Chris is a small restaurant that has your typical pizza / sandwich options.  The interior consists of a small dining flanked by a counter.  I tried their Italian hoagie and it was actually very good. I will be back if I'm in the area. \n",
            " ---> Ardmore area, Italian hoagie, party tray, sandwich\n",
            "Awesome joint! Today the place was dealing with a short staff in the middle of a blizzard and a lot of ppl coming in, and yet they were hustling a ton, food came out in a normal time and made perfectly. They were super polite (despite being stressed) and were great about filling the coffee pots as needed too. Summary: great bagel sandwiches, very good polite service, came through in the clutch. Very rude staff. The looked miserable. I had to say excuse me twice to get the girl to look up from her cell phone. Then she proceeded to give me a look and instruct another miserable employee to help me. There are plenty of happy people who will be willing to take your job Ordered three bagel sandwiches and a person who ordered ten minutes after me got their food first. When I asked the cashier about the issue the made a face and said he was working on my order which was a lie because another person who ordered after me received their food before me. Still waiting......oh and the cashier had hickey's all over her neck. One of the best authentic bagel houses. It is a little on the pricey side but if you want really really delicious bagels, this is the place to go to. \n",
            "\n",
            "We had breakfast where we tried a spinach/egg/cheese on an everything bagel as well as the Lox on an onion bagel. Both were really tasty and freshly prepared. Lox comes with a heavy dose of cream cheese so be prepared for that. The capers in the Lox sandwich give it a really nice kick. The chai tea latte was OK, probably won't get it again. Hashbrowns are a little greasy.\n",
            "\n",
            "They also sell bagels by the Baker's dozen, half dozen, or individually. They provide freezer bags if you want to save for later.\n",
            "\n",
            "Parking can be cramped especially on weekend mornings but they offer additional parking in rear. This place is the worst. We've gone there a number of times based on convenience and the fact that they have decent food, but they have gotten our orders wrong more than half of the time. Will not be going back, no matter how convenient it is. Again...pulled up today at 2:40 when they close at 3 and the open sign is on. Walk up and the door is locked and the girl flips off the open sign right in front of me. Lolololol. I served tables for 11 years and that's a no no In the industry. First time coming here after not coming for 6 months because of bad service. What a taste that left.... My significant other and I LOVE ourselves some Manhattan Bagel. We recently moved to Willow Grove from Northwest Philadelphia where the one in our neighborhood left much to be desired. We joked about the not  so happy staff, but then started coming to this location and let's just say this staff makes the staff in Philly look like the kids from the Sound of Music. Every time we walk in the staff almost groans with having to speak to a customer. The manager is friendly but his staff is absolutely miserable. We frequent here, and even as someone who has worked in food service for 10+ years and tips a dollar on just coffee alone, don't ever expect a smile or thank you from this staff. The woman at the register makes going in there a dread of an experience and is so rude. If you ask for a bagel they are out of they literally shoot daggers at you with their eyes, roll their eyes, and almost berate you for trying to choose a bagel you didn't know they were out of. Which how would I know since they put all the bagels away at 2:00 PM when they close at 3PM because they are trying to jet out of there. The chairs are already turned around and on top of the tables at 2. It's honestly the worst because we love the food but every time we go in and try to be friendly we leave feeling horrible at the customer service we just DID NOT receive. I know the treatment food service workers are put through. I try to be the sweetest and most easy going customer, but these people simply are terrible and make me feel awful for even trying to order a darn bagel! Pretty pricey for breakfast sandwiches. You will easily drop $20 or more for two people for little breakfast sandwiches and beverages. The parking lot is super small,awkward shaped,difficult to get in and out of. They have weird hours that seem to change often. Inside is a bit cramped and there's a few super tiny tables  that are lined up against the wall next the where people wait in line. So if you want to dine in you have to have someone's butt in your face while you eat. Today, at around 4:40 pm I decided I would commit to the 35 minute commute to my local Manhattan Bagel for dinner  since I hadn't had it in a long time and I really wanted it. Prior, I had checked the Manhattan Bagel website for the hours, as well as google and it said 6 pm, which would give me plenty of time. To my dismay, after driving 35 minutes and arriving, this location was closed and had posted on their door that they close at 3 pm. I wouldn't mind them closing at 3 pm otherwise, however I was annoyed that this was not what was depicted on their website. If I had known this, I wouldn't have made the drive. This miscommuncation was very frustrating and needs to be fixed. We came here today on Nov. 23 thanksgiving 2017 and we expected to come and have great service as usual. As we were ordering our cashier Taylor was rude cussing under her breath and rolling her eyes as we were ordering. They took 45 mins to make 2 sandwiches and a bagel. It wasn't busy and it wasn't even close to closing. The workers making the food were cussing and freaking out about 3 small tickets. They also messed up our to lattes they were not even hot with no flavor and no whipped cream that we asked for. I don't think me and my boyfriend will be coming here again. Came here because I received a gift card for xmas. I always wanted to come here but the parking lot looked weird and hard to get into as well as out. I was correct about the parking lot and it didn't help that there was a snow storm a few days before and has piles of snow that doesn't make parking any easier. But the food is a different story! I ordered the Empire State Club on Spinach and cheese bagel and ordered a Bakers Dozen with two cream cheese for my family. \n",
            "\n",
            "Empire State Club on Spinach and cheese bagel!! OMG IM IN LOVE!! I loved this! and I will definitely come back just for this. I forget how much this is but I will pay for it. LOL It taste was great it wasn't dry and the Spinach and cheese bagel was so delicious.\n",
            "\n",
            "I ordered the Bakers Dozen with two cream cheese and the bagels were big and were tasty. I also got to choose the cream cheeses but I just played it safe and got two regular cream cheeses. My family loved them and asked me to buy this more often. I will definitely come back! Stopped in Wed and took advantage of their $3.50 bagel/cream cheese and coffee combo.  The bagels here are probably the smallest I have ever seen.  The cream cheese was good and a very healthy portion.  Wish the bagels were bigger and there was a larger selection of cookies and other sweets.  There were quite a few muffins, but limited selection of other sweets.\n",
            "\n",
            "Coffee was good and both hot and cold are self service options.\n",
            "Place has somewhat of an Einstein's Bagel vibe to it, even some of the fonts and layout of signage looked similar.\n",
            "\n",
            "Worth coming back again, maybe need to get two bagels next time. Amazing food! clean and fast service can't wait to come back. Everyone here is super nice and make sure the meal comes out correctly. They are always behind even if there is 10 people working and 3 customers. They always take the phone off the hook. The last 2 times I went in the pretended they didn't know and the other time told me it was dead and they didn't know. Quality of food has dropped drastically in the last few months Ordered a whitefish bagel. Missing completely. Ordered three with Turkey bacon. Got regular. Literally can't eat ANYTHING like, nothing, and was told to file a claim with Uber eats. WOW. Ok. At least my neighbors get some bagels! It's franchise bagels that are better than average as as those from a grocery store. Orders are rarely ever ready on time, and sometimes they aren't even aware of your order, leaving the staff frazzled and backed up. The prices on beverages and sandwiches are overpriced. There's no other competitors in the area and their location is prime. Called in an order to take brunch for my mom. Unfortunately the manager was on vacation, which seemed to leave chaos in the kitchen, and when I got to my mom's place, the sandwiches were literally empty inside! Whitefish salad ordered for both, but none on either one. See photos.\n",
            "\n",
            "The manager made good on it the next week. She personally made me two huge sandwiches (we could've shared one) and didn't charge for either one. They also had credited my card for the empty sandwiches received a week earlier. So that manager fixed a negative situation.\n",
            "\n",
            "On the plus side, the whitefish salad is kick ass, and their bagels are light and delicious. I also like that they put toppings on both sides of the bagel, not just on the top. This is definitely my go to place for picking up a bagel when I go to see my mom! What a grouch!! Lady was very rude, arrogant and unprofessional, no customer service skills, bad attitude, won't be returning there I'll stick to Panera Bagel is great! Crispy outside soft chewy inside... the service and cleanliness of the place is lacking. Not sure if I will come back. \n",
            " ---> cream cheese, customer service, local Manhattan Bagel\n",
            "Really excited to get healthier options on the Circle! Got a wrap and it was delicious and HUGE. Definitely two meals for me, so when you take that into account its a good price to. Would love to be able to order just half though, not sure if thats an option or not. Chips were meh. Tried Green District today. Amazing. Highly recommend for a healthy alternative to fast food downtown. Green District Salads makes going to the office a little more fun. :) It has been my go-to lunch place recently and it has never let me down. I'm a huge fan of the Blue Barrymore. All of their salads taste fresh and are big enough to satisfy my hunger for the entire afternoon. I also got a salad delivered and it tasted just as good as picking it up in-store. \n",
            "\n",
            "If you download the app, you can get $5 off your first salad! Fresh ingredients and options! I was really impressed by the size of the salad and the variety of toppings to choose from. The prices were very reasonable too for the quality and quantity of them. Definitely recommend it if you're looking for a great salad! Fresh ingredients and large portions (I built my own wrap). It was delicious. So happy to have them downtown! I got a free salad/bowl/wrap coupon through my work, and chose to build my own salad. I'm pretty picky when it comes to my salads so I'm glad I could have it made the way I like it. It was delicious! The restaurant was incredibly clean and the service was awesome. A worker came up to ask how everything was which was really nice! There is plenty of seating indoors and outdoors. Overall really enjoyed my experience definitely go! My friend raved about Green District, so I had to try it out. Located right on Monument Circle, you can expect lunch rush - but they have an app where you can order & pickup, and receive reward points. \n",
            "\n",
            "The menu is huge with a number of preset salad options, or you can build your own. You can get the dressing mixed up or on the side. I got the Spinach Inquisition and really enjoyed it, the goat cheese gave this a really nice flavor.\n",
            "\n",
            "They have 4 drink options, sweet tea (with lemon), lemonade, black tea, and blackberry tea. The lemonade was pretty good. I just started working downtown again and I am so glad this place is nearby! I ordered hours ahead online to pick up at noon; I did a build your own wrap (awesome choices) and some hummus / pita chips for a snack later. You get $5 off your first order! My food was ready as soon as I got there at noon at the online order pick up spot. \n",
            "\n",
            "The wrap and hummus were great! The hummus is a pretty decent size for a \"side\" and you get an individual bag of pita chips. I also ordered their blackberry tractor tea which was so yummy. \n",
            "\n",
            "I will be a regular here, I can already tell! Let's hope they don't have the downtown restaurant curse like others recently; there's hardly any food options anymore. I have been waiting for something like this to open in downtown Indy for awhile & it did not disappoint! The staff was very welcoming & kind. The food was fresh & fast. I've ordered both off the menu & created my own wrap. 10/10 would recommend. I love this place!! I will say, I am not someone who really ever spends money on salads when I go out to eat. But this is worth it!! You start with your base (I did half quinoa half spinach) and then add toppings, which they have A LOT to choose from. You can add a protein and then a sauce. I relied on the worker a lot for recommendations as it was my first time in. I wanted a quinoa grain bowl type thing, and he did a great job with his recommendations! I ended up with shrimp and honey mustard on top. It was huge- I definitely did not think I was going to eat it all for lunch, but ended up finishing it because it was so good!! \n",
            "\n",
            "My absolute favorite thing about this whole experience was that once you are done building your salad, they dump it out on a big cutting hoard and chop it all up, mix it up, and pour it back in your bowl. No more forkfuls of entirely spinach or entirely toppings- it is perfectly mixed and chopped already!! I never realized how much I needed this for every salad I eat. \n",
            "\n",
            "They also have fancy sodas and good looking drinks- I wish I had known before checking out. I will definitely have to get a beverage next time I am in. \n",
            "\n",
            "This location is right on the circle- so plan your parking accordingly. It was not crazy busy when I went- on a weekday for lunch. There was seating inside but I took it to go. \n",
            "\n",
            "I am excited to come back here for lunch again and again. This is a great addition to downtown. Picked up an online order and the process couldn't have been smoother. The staff was greet you immediately are extremely friendly.\n",
            "\n",
            "I ordered the thai shrimp salad and it was alright. I could have used more dressing and it tasted a little bland. Next time I go I definitely want to try the wrap! My friend ordered that and it looked so much tastier! I stopped in at Green District when I had the chance to work from the office for the first time in a while last week. I was super impressed with their service and quality.\n",
            "\n",
            "I ordered the Tequila Mockingbird Salad and added avocado. Since I have a food allergy, I asked them to take off the Mango Salsa. The individual taking order was super detailed about asking what my allergy was and then making my salad himself after washing his hands and the equipment so that I wouldn't have a reaction. I really appreciated this!\n",
            "\n",
            "They did end up forgetting to put avocado in my salad, but quickly corrected this when I asked. My only qualms about GD is that their salads are a little pricey and the app was difficult to use. It said that I wasn't able to order pick-up without calling the location.. weird. Really good selection of items on the menu but the build-your-own is what got my attention.  The ingredients were fresh and it was ready by the time I walked there to pick it up.  10/10 would recommend! \n",
            " ---> Green District, quinoa grain bowl, quality,\n",
            "Every time we come here, the wonderful people working here are helpful, kind, and provide excellent customer service! 99 times out of 100, they'll screw your order up. The employees just don't give a shit. My most recent experience, which was about 5 minutes ago was the last straw. I went at six pm. There was one other car in front of me and no one inside so clearly them being busy wasn't an excuse. I order a spicy chicken sandwich with mayo only, a large fry, and some nuggets. The first thing that happened was I had to repeat my order three times. Then, when I get up to the window, they try to give me someone else's order. Mine wasn't even ready. Then, when I get home, about two minutes away, the fries are already cold, and there's a shit ton of lettuce on my sandwich and no fucking mayo. Fuck this Wendy's. I'll never go again. This review is based on my drive-thru experience only - as I have never gone into the actual building at this particular location. The service is your standard \"quick and easy\" ordering for a fast food restaurant. The person handling my order seemed a bit disorganized. She tried handing me straws when I did not order any drinks and seemed confused when I told her so. She was very friendly, however, and corrected my order. I ordered a small cup of chili and fries. I have always been a big fan of their chili, however, the fries were a bit stale. This was my first time ordering here so I'll give them another try the next time. I hope the person who got my order (single cheese combo) enjoyed it more than the triple cheeseburger sandwich I got. What a disappointment. I really am disappointed. Went through the drive through late nite. I was the only person in line. The food was cold. Cold fries. Cold nuggets. Cold burger. I wish there was something better closer to home. It was depressing Old and cold. Crazy fast service because it must have been left on the grill since lunch. Nasty dry shriveled burger and cold fries as limp as my grandpa Old and cold. Crazy fast service because it must have been left on the grill since lunch. Nasty dry shriveled burger and cold fries as limp as my grandpa\n",
            "\n",
            "Went here again. Ordered inside at 7:45 on a Sunday with nobody in the place. They got both sandwiches wrong. They are incapable of making orders correctly Employees dont care what they serve. Bought 2 chocolate frostys. The Frostys were full of foam. It wasn't frozen at all. I know the employee saw it didn't look right, but it they served it anyway. I wont be going back. This location always has a huge line because they can only handle one order at a time. Tonight I waited 28 minutes to even get to the speaker,with only 4 cars in line. When I got to the speaker I watched several cars drive off while I waited to tell them I had a mobile order. Finally at the window I'm told they are out of items on my order. Of course. It's easier to go to one of the locations further from my home...it's faster!  The inside is always closed as well. This location needs better workers and management. If I could make a negative number I would. This place has the worse customer service. A few months ago I had a problem with my meal. I called and spoke to Muhammed who told me that he would write my name down and when I was in the area come back. Well since that time life happened but I stopped by today. Was needing to get a few meals. I asked for Muhammed explained what I needed and he said I don't remember talking to you? I said but you said you would write my name down. He said well when was it. I said a few months ago. He told me oh that's to long ago. After a month no we don't have. He said you didn't talk to me. Well how did I know yo ask for Muhammed. I will never spend another dollar in that store again. Customer service skills are horrible! Worst Wendy's I've ever been to. I don't know what kind of bozo they've got running this place but they're doing a piss poor job. I sat at the drive thru window for almost 10 minutes waiting on 2 cups of coffee. My food got cold before I even left the parking lot. Get your shit together Wendy's I drive here everyday. This is literally the best Wendy's. My salad is always made fresh and the customer service is splendid. The store manager is so friendly and helpful everytime I visit. 10 star service They close whenever they want, regardless of what it says online or on their doors. Pulled up to the drive thru menu and some workers were just talking in the parking lot and so I asked if they were closed...I'm assuming it was the manager (dark skin, fade, about 5 feet 9 maybe ) was like \"does it look like any lights are on to you? \" super rudely. It was 7 o clock on a Friday. I can't imagine why this place is still open. It all can't be fresh local farm to table. Sometimes and you are in a rush to get to a Bible study after work, and need something quick. Should I have packed something healthy to have on the way? Sure. But I didn't, I won't mince words. If you are American I'll make the assumption you are aware of the existence of Wendy's. Ps check out there Twitter if you haven't, it's so funny.\n",
            "Fast food is so bad for you but sometimes oh so good as a sparing treat.\n",
            "I typically stick with the basics when it comes to Wendy's, the chili, yes I know it's made with old hamburgers it's for seasoning! I find it good in a pinch. \n",
            "Any variety of chicken sandwich and the bacon cheeseburger.\n",
            "For the life of me, I'm not sure why but I really wanted one so I swung by and grabbed 2 for the road. Delicious and just what I needed. I love wendy's very much but this location is absolutely TERRIBLE! I was rushed at the window when there was obviously only 1 car behind me. I was trying to move around my cups in my car so I had room & the man decided to say \"I know you are giggling, but can we hurry it up we need to get through this line\" in a very rude tone. This was completely unnecessary. \n",
            " ---> customer service, fast food\n",
            "Phenomenal dinner! We had the pan seared brussel sprouts as an appetizer and that dish set the tone for the rest of the courses. They were perfectly cooked with a savory blend of spices, red onions and toasted walnuts. I would have been satisfied with more of that as an entree, but lucky for me I moved on to the apple salad with blue cheese and again it did not disappoint, a perfect balance of sweet and savory and the cucumber vinaigrette was a pleasant surprise. My bf had the beet salad and it was terrific as well. My entree was the salmon and since my bf doesn't care for sea food, I got it all to myself. He was nice enough however to let me sample his beef short ribs and they were spectacular too. I'm convinced someone in the kitchen really knows what they're doing ;)\n",
            "\n",
            "Service was just as good as the food. Extremely nice and attentive server who knew about every dish and was able to answer all questions and even make some recommendations for my picky bf. \n",
            "\n",
            "The restaurant was recently renovated, and they did a great job. Cozy space, but felt very fresh. Loved the attention to detail everywhere and a nice tribute to their relatives who I understand is inspiration and the namesake for the restaurant. \n",
            "\n",
            "A great new addition to Station Ave!!! I had been wanting to stop into this place since it arrived in my town! The original menu was holding me back from trying it because I am very picky! When I received an email with a new menu I said, the time has come! On a quiet Tuesday night we were one of 4 other tables being occupied! I knew this was a good sign for a week day! Bread was delicious with home made butter, very tasty! Mussels were delicious! Cooked perfect, not a speck of sand ( don't know why it's so hard for some places to clean their mussels, la oceana) chorizo added perfect spice and flavor to these fresh beauties! Could have eaten 2 orders with no help! The broth was delicious and I surely would have sipped from the bowl if I wanted to seem uncivilized! Lol secondly, the mussels came with spinach that is organic n was a local farm n I ate it too! The bf had the beer n brat soup! Was delicious! Again I'm not a sausage person or into beans but I loved the flavor! He just loved it! For our main courses I had the pork with home made papadelle pasta and he had the carrot and potato gnocci! We loved both of our entrees! The portions were great too! Desserts were ever better offering 2 of my favorites, bread pudding (chocolate chip flavored) and creme brûlée ( cappuccino flavored)they both were amazing and the home made ice cream! We definitely will be back! I only suggest maybe adding another pasta dish to the menu, maybe Alfredo or clams over linguini and add a few more appetizers such as mozzarella Fritta or fried calamari! Excellent addition to Haddon Heights.  \n",
            "\n",
            "Small menu, but excellent food and service.  \n",
            "\n",
            "The short rib and scallops were fantastic.\n",
            "\n",
            "Can't wait to return. This is one of the best restaurants residents of the Haddon area are NOT enjoying!\n",
            "There is no reason why my husband and I were the only customers on a recent weekend night!\n",
            "We ordered 2 cold plates, 2 hot plates and  then 2 half plates of main entrees offered. With the exception of the fritters which were slightly dry everything was EXCELLENT!!!!\n",
            "Desserts were just as good.\n",
            "The two chefs are obviously talented and we wish them the best of luck in their young lives!\n",
            "Meanwhile if you are an HH resident or near by please support local business!!! Excellent food. Attentive service. Engaged chef with passion for food! \n",
            " ---> Haddon Heights, attentive service, fresh beaut\n"
          ]
        }
      ]
    },
    {
      "cell_type": "markdown",
      "source": [
        "# 2. Bert로 핵심 문장 추출 한 뒤 여러 알고리즘으로 keyword 추출\n",
        "\n",
        "- 양방향 문맥 이해: BERT는 양방향 문맥을 고려하여 텍스트를 이해하는 것에 효과적이다.\n",
        "- 주로 텍스트 분류, 질문 답변, 문장 관계 예측에 사용됨.\n",
        "\n",
        "[참고] https://iopscience.iop.org/article/10.1088/1742-6596/1992/4/042077/pdf"
      ],
      "metadata": {
        "id": "D-5ZBYscz4pu"
      }
    },
    {
      "cell_type": "code",
      "source": [
        "from transformers import BertModel, BertTokenizer\n",
        "import torch\n",
        "from sklearn.metrics.pairwise import cosine_similarity\n",
        "\n",
        "# Bert 모델과 토크나이저 로드\n",
        "model = BertModel.from_pretrained('bert-base-uncased')\n",
        "tokenizer = BertTokenizer.from_pretrained('bert-base-uncased')\n",
        "\n",
        "def extract_key_sentences(text, num_sentences=3):\n",
        "    sentences = text.split('.')\n",
        "    embeddings = []\n",
        "\n",
        "    for sentence in sentences:\n",
        "        inputs = tokenizer(sentence, return_tensors='pt')\n",
        "        outputs = model(**inputs)\n",
        "        embeddings.append(outputs.last_hidden_state.mean(dim=1).squeeze().detach().numpy())\n",
        "\n",
        "    similarities = cosine_similarity(embeddings)\n",
        "    key_sentences = sorted(range(len(similarities)), key=lambda i: similarities[i].sum(), reverse=True)[:num_sentences]\n",
        "\n",
        "    return [sentences[i] for i in key_sentences]"
      ],
      "metadata": {
        "id": "nxAQJqVzx6XJ"
      },
      "execution_count": 13,
      "outputs": []
    },
    {
      "cell_type": "code",
      "source": [
        "extract_key_sentences(group_temp['text'][0])"
      ],
      "metadata": {
        "colab": {
          "base_uri": "https://localhost:8080/"
        },
        "id": "fg3zR8I7z-yx",
        "outputId": "d36e77ca-053d-401b-bfde-ec64b1602309"
      },
      "execution_count": 14,
      "outputs": [
        {
          "output_type": "execute_result",
          "data": {
            "text/plain": [
              "[' \\n\\nI ordered to go my order was ready in 10 minutes \\n\\nThe staff was very polite \\n\\nMy food was hot, fresh and tasty! The potion of coleslaw was huge an my lobster was a nice size',\n",
              " \" Can't wait to return!! Great little spot and best of all BYOB !!!!\\nLove it \\n\\nIs the food was fresh coat and they brought in the stone crabs that night on ice !  The boiled shrimp are great and the outside seating makes it feel very old Florida which is cool  , oysters Rockefeller was  pretty good\",\n",
              " \" The establishment makes you feel so comfortable and warm you don't want to leave! I had the Cuban Empanadas's and they were delicious  I ordered the baked beans also and they were some of the best I've ever had\"]"
            ]
          },
          "metadata": {},
          "execution_count": 14
        }
      ]
    },
    {
      "cell_type": "code",
      "source": [
        "extract_key_sentences(df['text'][0])"
      ],
      "metadata": {
        "colab": {
          "base_uri": "https://localhost:8080/"
        },
        "id": "R3yZSpYB0J3L",
        "outputId": "e4847944-0541-4dc4-b7c6-263351c0571d"
      },
      "execution_count": 15,
      "outputs": [
        {
          "output_type": "execute_result",
          "data": {
            "text/plain": [
              "[' \\n\\nThe food is good, but it takes a very long time to come out',\n",
              " ' We usually opt for another diner or restaurant on the weekends, in order to be done quicker',\n",
              " 'If you decide to eat here, just be aware it is going to take about 2 hours from beginning to end']"
            ]
          },
          "metadata": {},
          "execution_count": 15
        }
      ]
    },
    {
      "cell_type": "code",
      "source": [
        "df['text'][0]"
      ],
      "metadata": {
        "colab": {
          "base_uri": "https://localhost:8080/",
          "height": 107
        },
        "id": "d5VsWRiX0gpG",
        "outputId": "dd8da9d9-a1f9-41ed-e2bc-6ccca5bdc8d2"
      },
      "execution_count": 16,
      "outputs": [
        {
          "output_type": "execute_result",
          "data": {
            "text/plain": [
              "\"If you decide to eat here, just be aware it is going to take about 2 hours from beginning to end. We have tried it multiple times, because I want to like it! I have been to it's other locations in NJ and never had a bad experience. \\n\\nThe food is good, but it takes a very long time to come out. The waitstaff is very young, but usually pleasant. We have just had too many experiences where we spent way too long waiting. We usually opt for another diner or restaurant on the weekends, in order to be done quicker.\""
            ],
            "application/vnd.google.colaboratory.intrinsic+json": {
              "type": "string"
            }
          },
          "metadata": {},
          "execution_count": 16
        }
      ]
    },
    {
      "cell_type": "code",
      "source": [],
      "metadata": {
        "id": "ql3Vud9V0o1d"
      },
      "execution_count": null,
      "outputs": []
    },
    {
      "cell_type": "markdown",
      "source": [
        "### TF-IDF, TextRank, LDA 알고리즘 사용 후 keyword 결합하여 추출"
      ],
      "metadata": {
        "id": "7b6NfcYD1PBo"
      }
    },
    {
      "cell_type": "code",
      "source": [
        "from sklearn.feature_extraction.text import TfidfVectorizer\n",
        "from sklearn.decomposition import LatentDirichletAllocation\n",
        "import networkx as nx\n",
        "\n",
        "# TF-IDF 키워드 추출\n",
        "def tfidf_keywords(text, num_keywords=5):\n",
        "    vectorizer = TfidfVectorizer()\n",
        "    X = vectorizer.fit_transform([text])\n",
        "    indices = X.toarray().argsort()[0, -num_keywords:]\n",
        "    features = vectorizer.get_feature_names_out()\n",
        "    return [features[i] for i in indices]\n",
        "\n",
        "# TextRank 키워드 추출\n",
        "def textrank_keywords(text, num_keywords=5):\n",
        "    words = text.split()\n",
        "    word_graph = nx.Graph()\n",
        "\n",
        "    for i, word in enumerate(words):\n",
        "        for j in range(i+1, min(i+5, len(words))):\n",
        "            word_graph.add_edge(word, words[j])\n",
        "\n",
        "    scores = nx.pagerank(word_graph)\n",
        "    ranked_words = sorted(scores, key=scores.get, reverse=True)[:num_keywords]\n",
        "    return ranked_words\n",
        "\n",
        "# LDA 키워드 추출\n",
        "def lda_keywords(text, num_keywords=5):\n",
        "    vectorizer = CountVectorizer()\n",
        "    X = vectorizer.fit_transform([text])\n",
        "    lda = LatentDirichletAllocation(n_components=1)\n",
        "    lda.fit(X)\n",
        "    indices = lda.components_[0].argsort()[-num_keywords:]\n",
        "    features = vectorizer.get_feature_names_out()\n",
        "    return [features[i] for i in indices]\n",
        "\n",
        "\n",
        "import nltk\n",
        "from nltk.corpus import stopwords\n",
        "\n",
        "# 불용어 다운로드\n",
        "nltk.download('stopwords')\n",
        "stop_words = set(stopwords.words('english'))\n",
        "\n",
        "def preprocess_text(text):\n",
        "    words = text.split()\n",
        "    filtered_words = [word for word in words if word.lower() not in stop_words]\n",
        "    return ' '.join(filtered_words)\n",
        "\n",
        "\n",
        "\n",
        "# 최종 키워드 결합\n",
        "def extract_keywords(text, num_keywords=5):\n",
        "    key_sentences = extract_key_sentences(text)\n",
        "    combined_text = ' '.join(key_sentences)\n",
        "    preprocessed_text = preprocess_text(combined_text)\n",
        "\n",
        "    tfidf_kw = tfidf_keywords(combined_text, num_keywords)\n",
        "    textrank_kw = textrank_keywords(combined_text, num_keywords)\n",
        "    lda_kw = lda_keywords(combined_text, num_keywords)\n",
        "\n",
        "    return list(set(tfidf_kw) | set(textrank_kw) | set(lda_kw))"
      ],
      "metadata": {
        "colab": {
          "base_uri": "https://localhost:8080/"
        },
        "id": "Uc-G0flz1Uvu",
        "outputId": "16fd3fa4-29cd-4f1a-f4da-1feb46640caf"
      },
      "execution_count": 39,
      "outputs": [
        {
          "output_type": "stream",
          "name": "stderr",
          "text": [
            "[nltk_data] Downloading package stopwords to /root/nltk_data...\n",
            "[nltk_data]   Package stopwords is already up-to-date!\n"
          ]
        }
      ]
    },
    {
      "cell_type": "code",
      "source": [
        "from sklearn.decomposition import LatentDirichletAllocation\n",
        "from sklearn.feature_extraction.text import CountVectorizer\n",
        "\n",
        "# 리뷰 데이터를 LDA를 사용하여 토픽 모델링\n",
        "def topic_modeling(reviews, num_topics=5, num_keywords=5):\n",
        "    vectorizer = CountVectorizer()\n",
        "    X = vectorizer.fit_transform(reviews)\n",
        "\n",
        "    lda = LatentDirichletAllocation(n_components=num_topics)\n",
        "    lda.fit(X)\n",
        "\n",
        "    topics = []\n",
        "    for idx, topic in enumerate(lda.components_):\n",
        "        keywords = [vectorizer.get_feature_names_out()[i] for i in topic.argsort()[:-num_keywords - 1:-1]]\n",
        "        topics.append(keywords)\n",
        "\n",
        "    return topics"
      ],
      "metadata": {
        "id": "cwl79dvv1Vbl"
      },
      "execution_count": 18,
      "outputs": []
    },
    {
      "cell_type": "markdown",
      "source": [
        "#### 불용어 처리 전 예시"
      ],
      "metadata": {
        "id": "iTwbiFJM2ooS"
      }
    },
    {
      "cell_type": "code",
      "source": [
        "# # 예시 데이터\n",
        "reviews = [\n",
        "    \"The food was great and the service was excellent.\",\n",
        "    \"I love the ambiance but the food was just okay.\",\n",
        "    \"The pasta was delicious and the wine selection was superb.\"\n",
        "]\n",
        "\n",
        "# 토픽별 키워드 추출\n",
        "topics = topic_modeling(reviews, num_topics=3, num_keywords=5)\n",
        "for idx, topic in enumerate(topics):\n",
        "    print(f\"Topic {idx+1}: {topic}\")\n",
        "\n",
        "\n",
        "extract_keywords(reviews[0])"
      ],
      "metadata": {
        "colab": {
          "base_uri": "https://localhost:8080/"
        },
        "id": "yRUAYe001j1F",
        "outputId": "899f4b46-249c-42c6-c704-cd17018947c5"
      },
      "execution_count": 40,
      "outputs": [
        {
          "output_type": "stream",
          "name": "stdout",
          "text": [
            "Topic 1: ['the', 'was', 'wine', 'superb', 'selection']\n",
            "Topic 2: ['food', 'and', 'the', 'was', 'ambiance']\n",
            "Topic 3: ['was', 'the', 'food', 'and', 'great']\n"
          ]
        },
        {
          "output_type": "execute_result",
          "data": {
            "text/plain": [
              "['food', 'great', 'was', 'and', 'the', 'service']"
            ]
          },
          "metadata": {},
          "execution_count": 40
        }
      ]
    },
    {
      "cell_type": "markdown",
      "source": [
        "#### 불용어 처리 후"
      ],
      "metadata": {
        "id": "dY296xyb2syH"
      }
    },
    {
      "cell_type": "code",
      "source": [
        "# 예시 데이터\n",
        "reviews = [\n",
        "    \"The food was great and the service was excellent.\",\n",
        "    \"I love the ambiance but the food was just okay.\",\n",
        "    \"The pasta was delicious and the wine selection was superb.\"\n",
        "]\n",
        "\n",
        "preprocessed_reviews = [preprocess_text(review) for review in reviews]\n",
        "topics_v2 = topic_modeling(preprocessed_reviews, num_topics=3, num_keywords=5)\n",
        "for idx, topic in enumerate(topics_v2):\n",
        "    print(f\"Topic {idx+1}: {topic}\")\n",
        "\n",
        "extract_keywords(preprocessed_reviews[0])"
      ],
      "metadata": {
        "colab": {
          "base_uri": "https://localhost:8080/"
        },
        "id": "ynOCY2Oh1jp_",
        "outputId": "4c2c904a-4d62-4433-cfcf-400cfa987447"
      },
      "execution_count": 43,
      "outputs": [
        {
          "output_type": "stream",
          "name": "stdout",
          "text": [
            "Topic 1: ['food', 'love', 'okay', 'ambiance', 'excellent']\n",
            "Topic 2: ['wine', 'superb', 'selection', 'pasta', 'delicious']\n",
            "Topic 3: ['service', 'great', 'excellent', 'love', 'ambiance']\n"
          ]
        },
        {
          "output_type": "execute_result",
          "data": {
            "text/plain": [
              "['food', 'great', 'excellent', 'service']"
            ]
          },
          "metadata": {},
          "execution_count": 43
        }
      ]
    },
    {
      "cell_type": "markdown",
      "source": [
        "#### 실제 리뷰 데이터로 실험"
      ],
      "metadata": {
        "id": "G2iWSwWc20aq"
      }
    },
    {
      "cell_type": "code",
      "source": [
        "preprocessed_reviews = [preprocess_text(review) for review in df.loc[:1,'text']]\n",
        "\n",
        "topics_v2 = topic_modeling(preprocessed_reviews, num_topics=3, num_keywords=5)\n",
        "for idx, topic in enumerate(topics_v2):\n",
        "  print(f\"Topic {idx+1}: {topic}\")"
      ],
      "metadata": {
        "colab": {
          "base_uri": "https://localhost:8080/"
        },
        "id": "veOp1Jas1r9N",
        "outputId": "968d6979-5825-4221-be31-9bebdd22073a"
      },
      "execution_count": 29,
      "outputs": [
        {
          "output_type": "stream",
          "name": "stdout",
          "text": [
            "Topic 1: ['like', 'curds', 'cheese', 'come', 'good']\n",
            "Topic 2: ['waitstaff', 'want', 'decide', 'way', 'done']\n",
            "Topic 3: ['waitstaff', 'want', 'decide', 'way', 'done']\n"
          ]
        }
      ]
    },
    {
      "cell_type": "code",
      "source": [
        "df.at[1,'text']"
      ],
      "metadata": {
        "colab": {
          "base_uri": "https://localhost:8080/",
          "height": 107
        },
        "id": "xNGCD24B264q",
        "outputId": "be243d17-1036-48fc-9f71-c174e15b8029"
      },
      "execution_count": 30,
      "outputs": [
        {
          "output_type": "execute_result",
          "data": {
            "text/plain": [
              "\"Cute interior and owner (?) gave us tour of upcoming patio/rooftop area which will be great on beautiful days like today. Cheese curds were very good and very filling. Really like that sandwiches come w salad, esp after eating too many curds! Had the onion, gruyere, tomato sandwich. Wasn't too much cheese which I liked. Needed something else...pepper jelly maybe. Would like to see more menu options added such as salads w fun cheeses. Lots of beer and wine as well as limited cocktails. Next time I will try one of the draft wines.\""
            ],
            "application/vnd.google.colaboratory.intrinsic+json": {
              "type": "string"
            }
          },
          "metadata": {},
          "execution_count": 30
        }
      ]
    },
    {
      "cell_type": "code",
      "source": [],
      "metadata": {
        "id": "5x181_247ujH"
      },
      "execution_count": null,
      "outputs": []
    }
  ]
}